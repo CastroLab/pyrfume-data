#libraries
import pandas as pd
import pyrfume
from pyrfume import get_cids
from pyrfume import from_cids

#Url + Convert First table into dataframe
url = 'https://www.jneurosci.org/content/34/6/2025/tab-figures-data'
dfs = pd.read_html(url)
df = dfs[0]

# Seperate Dataframe into two tables based on indices
df2 = df.iloc[:,[4,5,6,7]]

df = df.iloc[:,[0,1,2,3]]


#Rename columns of second dataframe and concatenate into 1 dataframe
df2 = df2.rename(columns={"Number.1": "Number", "Odorant.1": "Odorant", "Log(air/mucus partition coefficient).1": "Log(air/mucus partition coefficient)", "Chemical Abstracts Service (CAS) registry number.1": "Chemical Abstracts Service (CAS) registry number"})

df3 = pd.concat([df,df2])



#Getting Molecules and CIDs
names = df3['Odorant'].tolist()
cids = get_cids(names)
cids = pd.Series(cids)
info = from_cids(cids.values)
molecules = pd.DataFrame(info).set_index('CID')

unknown = ['Methyl pyriodine','Ethylacetoacetate','Cyclohex anone','Cineole-1-8','Methyl nonanate','Cineole-1-4','Methyloctanoate','Cyclohexylacetate']

for i in unknown:
    new_row =  {'MolecularWeight':0, 'IsomericSMILES':0, 'IUPACName':0, 'name': i}
    molecules.append(new_row, ignore_index=True)





#molecules and behavior to csv
molecules.to_csv('molecules.csv')
df3.to_csv('behavior.csv', index=False)
