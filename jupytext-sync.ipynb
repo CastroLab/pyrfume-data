{
 "cells": [
  {
   "cell_type": "code",
   "execution_count": null,
   "id": "e7b507e0-b4d5-4fc1-a8a9-50a436f758f5",
   "metadata": {},
   "outputs": [
    {
     "data": {
      "application/vnd.jupyter.widget-view+json": {
       "model_id": "55483379e20c4f79a389c9afda051f9d",
       "version_major": 2,
       "version_minor": 0
      },
      "text/plain": [
       "  0%|          | 0/10 [00:00<?, ?it/s]"
      ]
     },
     "metadata": {},
     "output_type": "display_data"
    }
   ],
   "source": [
    "from pathlib import Path\n",
    "import subprocess\n",
    "from tqdm.auto import tqdm\n",
    "\n",
    "home = Path('.')\n",
    "for archive in tqdm(pyrfume.list_archives()):\n",
    "    path = pyrfume.get_data_path() / archive\n",
    "    for notebook in path.glob('*.ipynb'):\n",
    "        subprocess.run(['jupytext',\n",
    "                        '--set-formats=ipynb,py',\n",
    "                        str(notebook)])\n",
    "        subprocess.run(['git',\n",
    "                        'rm',\n",
    "                        '--cached',\n",
    "                        '%s/main.ipynb' % str(archive)],\n",
    "                        capture_output=True,\n",
    "                        shell=True)\n",
    "        subprocess.run(['git',\n",
    "                        'add',\n",
    "                        '%s/main.py' % archive])"
   ]
  }
 ],
 "metadata": {
  "kernelspec": {
   "display_name": "Python 3",
   "language": "python",
   "name": "python3"
  },
  "language_info": {
   "codemirror_mode": {
    "name": "ipython",
    "version": 3
   },
   "file_extension": ".py",
   "mimetype": "text/x-python",
   "name": "python",
   "nbconvert_exporter": "python",
   "pygments_lexer": "ipython3",
   "version": "3.9.4"
  }
 },
 "nbformat": 4,
 "nbformat_minor": 5
}
