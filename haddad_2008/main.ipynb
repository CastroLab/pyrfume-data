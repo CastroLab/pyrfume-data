{
 "cells": [
  {
   "cell_type": "code",
   "execution_count": 1,
   "id": "b6dd12ca-446f-4163-89bd-b4e8322a02b8",
   "metadata": {},
   "outputs": [],
   "source": [
    "import pandas as pd\n",
    "import pyrfume\n",
    "from pyrfume.odorants import get_cids, from_cids"
   ]
  },
  {
   "cell_type": "code",
   "execution_count": 2,
   "id": "eeedd01b-c835-4ae4-9f0e-5b8a031b90be",
   "metadata": {},
   "outputs": [],
   "source": [
    "cas = pd.read_csv('cas.txt', header=None)\n",
    "cas = cas[0].apply(lambda x: x if '-' in x else None).dropna().values"
   ]
  },
  {
   "cell_type": "code",
   "execution_count": 3,
   "id": "a6115360-ee82-458d-90a2-66052254959f",
   "metadata": {},
   "outputs": [
    {
     "data": {
      "application/vnd.jupyter.widget-view+json": {
       "model_id": "12fd12d6ad6041cea87c0b94d868f286",
       "version_major": 2,
       "version_minor": 0
      },
      "text/plain": [
       "  0%|          | 0/146 [00:00<?, ?it/s]"
      ]
     },
     "metadata": {},
     "output_type": "display_data"
    },
    {
     "name": "stderr",
     "output_type": "stream",
     "text": [
      "Could not find 53896-26-7\n",
      "Multiple CIDs for 464-48-2: [444294, 2537, 5284500, 10050, 159055, 230921]\n",
      "Multiple CIDs for 488-10-8: [1549018, 10261, 1549019]\n",
      "Multiple CIDs for 89-82-7: [442495, 6988, 638012]\n"
     ]
    }
   ],
   "source": [
    "cas_cid = get_cids(cas)"
   ]
  },
  {
   "cell_type": "code",
   "execution_count": 4,
   "id": "fb7f7064-b853-48b7-8ac4-4fbf7e3ad9f2",
   "metadata": {},
   "outputs": [],
   "source": [
    "cas_cid['53896-26-7'] = 8892  # Hexanoic acid"
   ]
  },
  {
   "cell_type": "code",
   "execution_count": 5,
   "id": "1f7b810f-5ac5-459e-95f1-f7c6cb07ba0d",
   "metadata": {},
   "outputs": [
    {
     "data": {
      "application/vnd.jupyter.widget-view+json": {
       "model_id": "17844aba02644980b29109b800052274",
       "version_major": 2,
       "version_minor": 0
      },
      "text/plain": [
       "  0%|          | 0/2 [00:00<?, ?it/s]"
      ]
     },
     "metadata": {},
     "output_type": "display_data"
    },
    {
     "name": "stdout",
     "output_type": "stream",
     "text": [
      "Retrieving 0 through 99\n",
      "Retrieving 100 through 123\n"
     ]
    }
   ],
   "source": [
    "cids = list(cas_cid.values())\n",
    "molecules = pd.DataFrame(from_cids(cids)).set_index('CID')\n",
    "molecules.to_csv('molecules.csv')"
   ]
  },
  {
   "cell_type": "code",
   "execution_count": 6,
   "id": "9d88ebbc-ad28-499f-98b0-815eaf353c83",
   "metadata": {},
   "outputs": [],
   "source": [
    "weights_ = pd.read_csv('dragon-weights.csv')  # Extracted directly from supplement\n",
    "symbols = pd.read_csv('dragon6-symbols.csv')  # Looked up in Dragon 6, for comparison to other versions"
   ]
  },
  {
   "cell_type": "code",
   "execution_count": 7,
   "id": "fdf7c5e7-a21e-4678-9f3b-74cc0a559d9d",
   "metadata": {},
   "outputs": [],
   "source": [
    "weights = weights_.join(symbols[['Dragon 6.0 symbol']]).set_index('Dragon 6.0 symbol')\n",
    "weights = weights.drop('Descriptor', axis=1)\n",
    "weights.to_csv('weights.csv')"
   ]
  },
  {
   "cell_type": "code",
   "execution_count": 8,
   "id": "7b3851f2-184a-4526-b30e-d1dbd6f4810a",
   "metadata": {},
   "outputs": [],
   "source": [
    "features = pd.read_csv('features.csv').set_index('PubChemID')"
   ]
  },
  {
   "cell_type": "code",
   "execution_count": 9,
   "id": "4bf9e5a0-68ee-44d0-a3e7-dc20079a1017",
   "metadata": {},
   "outputs": [],
   "source": [
    "assert list(features.columns) == list(weights.index)"
   ]
  },
  {
   "cell_type": "code",
   "execution_count": 10,
   "id": "5c8b5fd2-078e-4b1f-98da-e3550ddfe3fe",
   "metadata": {},
   "outputs": [],
   "source": [
    "weighted_features = features.mul(weights['Weight'])"
   ]
  },
  {
   "cell_type": "code",
   "execution_count": 11,
   "id": "93b2c76a-303b-4a35-99f5-d8a0ce8fb47a",
   "metadata": {},
   "outputs": [],
   "source": [
    "weighted_features = features.T.mul(weights, axis=0)\n",
    "weighted_features.to_csv('feautures_weighted.csv')"
   ]
  },
  {
   "cell_type": "code",
   "execution_count": 12,
   "id": "c02c095a-67aa-4810-9936-2a1de2b046bf",
   "metadata": {},
   "outputs": [],
   "source": [
    "# Use API to compute distances\n",
    "\n",
    "#from scipy.spatial.distance import pdist, squareform\n",
    "#cids = features.index\n",
    "#distances = pd.DataFrame(index=cids, columns=cids)\n",
    "#distances[:] = squareform(pdist(weighted_features, metric='euclidean'))\n",
    "#distances.to_csv('distances.csv')"
   ]
  }
 ],
 "metadata": {
  "kernelspec": {
   "display_name": "Python 3",
   "language": "python",
   "name": "python3"
  },
  "language_info": {
   "codemirror_mode": {
    "name": "ipython",
    "version": 3
   },
   "file_extension": ".py",
   "mimetype": "text/x-python",
   "name": "python",
   "nbconvert_exporter": "python",
   "pygments_lexer": "ipython3",
   "version": "3.9.4"
  }
 },
 "nbformat": 4,
 "nbformat_minor": 5
}
