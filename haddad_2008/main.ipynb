{
 "cells": [
  {
   "cell_type": "code",
   "execution_count": 1,
   "id": "b6dd12ca-446f-4163-89bd-b4e8322a02b8",
   "metadata": {},
   "outputs": [],
   "source": [
    "import pandas as pd\n",
    "import pyrfume"
   ]
  },
  {
   "cell_type": "code",
   "execution_count": 2,
   "id": "9d88ebbc-ad28-499f-98b0-815eaf353c83",
   "metadata": {},
   "outputs": [],
   "source": [
    "weights_ = pd.read_csv('dragon-weights.csv')  # Extracted directly from supplement\n",
    "symbols = pd.read_csv('dragon6-symbols.csv')  # Looked up in Dragon 6, for comparison to other versions"
   ]
  },
  {
   "cell_type": "code",
   "execution_count": 3,
   "id": "fdf7c5e7-a21e-4678-9f3b-74cc0a559d9d",
   "metadata": {},
   "outputs": [],
   "source": [
    "weights = weights_.join(symbols[['Dragon 6.0 symbol']]).set_index('Dragon 6.0 symbol')\n",
    "weights = weights.drop('Descriptor', axis=1)\n",
    "weights.to_csv('weights.csv')"
   ]
  },
  {
   "cell_type": "code",
   "execution_count": 4,
   "id": "7b3851f2-184a-4526-b30e-d1dbd6f4810a",
   "metadata": {},
   "outputs": [],
   "source": [
    "features = pd.read_csv('features.csv').set_index('PubChemID')"
   ]
  },
  {
   "cell_type": "code",
   "execution_count": 5,
   "id": "4bf9e5a0-68ee-44d0-a3e7-dc20079a1017",
   "metadata": {},
   "outputs": [],
   "source": [
    "assert list(features.columns) == list(weights.index)"
   ]
  },
  {
   "cell_type": "code",
   "execution_count": 6,
   "id": "5c8b5fd2-078e-4b1f-98da-e3550ddfe3fe",
   "metadata": {},
   "outputs": [],
   "source": [
    "weighted_features = features.mul(weights['Weight'])"
   ]
  },
  {
   "cell_type": "code",
   "execution_count": 7,
   "id": "93b2c76a-303b-4a35-99f5-d8a0ce8fb47a",
   "metadata": {},
   "outputs": [],
   "source": [
    "weighted_features = features.T.mul(weights, axis=0)\n",
    "weighted_features.to_csv('feautures_weighted.csv')"
   ]
  },
  {
   "cell_type": "code",
   "execution_count": 8,
   "id": "c02c095a-67aa-4810-9936-2a1de2b046bf",
   "metadata": {},
   "outputs": [],
   "source": [
    "# Use API to compute distances\n",
    "\n",
    "#from scipy.spatial.distance import pdist, squareform\n",
    "#cids = features.index\n",
    "#distances = pd.DataFrame(index=cids, columns=cids)\n",
    "#distances[:] = squareform(pdist(weighted_features, metric='euclidean'))\n",
    "#distances.to_csv('distances.csv')"
   ]
  }
 ],
 "metadata": {
  "kernelspec": {
   "display_name": "Python 3",
   "language": "python",
   "name": "python3"
  },
  "language_info": {
   "codemirror_mode": {
    "name": "ipython",
    "version": 3
   },
   "file_extension": ".py",
   "mimetype": "text/x-python",
   "name": "python",
   "nbconvert_exporter": "python",
   "pygments_lexer": "ipython3",
   "version": "3.9.4"
  }
 },
 "nbformat": 4,
 "nbformat_minor": 5
}
