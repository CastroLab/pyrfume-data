{
 "cells": [
  {
   "cell_type": "markdown",
   "id": "bb13c30d-bba8-4acb-b28a-7035470bd4df",
   "metadata": {},
   "source": [
    "# Preprocessing for Leffingwell data"
   ]
  },
  {
   "cell_type": "markdown",
   "id": "b26ccbd8-12e3-4623-9d1a-bd9146f68c99",
   "metadata": {},
   "source": [
    "### Substantial preprocessing previously done by the team at Google; see leffingwell_readme.pdf\n",
    "### Preprocessing here is to convert this to the Pyrfume standard format"
   ]
  },
  {
   "cell_type": "code",
   "execution_count": 1,
   "id": "3ef5d4cb-bd8b-4898-b94a-4b804daf5780",
   "metadata": {},
   "outputs": [],
   "source": [
    "from itertools import chain\n",
    "import numpy as np\n",
    "import pandas as pd\n",
    "import pyrfume\n",
    "from pyrfume.odorants import get_cids, from_cids, canonical_smiles, smiles_to_mol\n",
    "from rdkit.Chem.Descriptors import MolWt\n",
    "from tqdm.auto import tqdm"
   ]
  },
  {
   "cell_type": "code",
   "execution_count": 2,
   "id": "5727ff15-c7dd-4a49-af1e-b722489898ee",
   "metadata": {},
   "outputs": [],
   "source": [
    "# Load the data previously processed by Google form the Leffingwell raw source file (not available here)\n",
    "raw = pd.read_csv('leffingwell_data.csv').set_index('smiles')"
   ]
  },
  {
   "cell_type": "code",
   "execution_count": 3,
   "id": "cc0cf92f-509a-40aa-987d-7c573bc20ac2",
   "metadata": {},
   "outputs": [
    {
     "data": {
      "application/vnd.jupyter.widget-view+json": {
       "model_id": "ed00438f1c084ea39fb11c8c0350a3ab",
       "version_major": 2,
       "version_minor": 0
      },
      "text/plain": [
       "  0%|          | 0/3523 [00:00<?, ?it/s]"
      ]
     },
     "metadata": {},
     "output_type": "display_data"
    },
    {
     "name": "stderr",
     "output_type": "stream",
     "text": [
      "Could not find CCCCOC(C)OC(C)CCC\n",
      "Could not find CCCC(C)OC(C)OCCC(C)C\n",
      "Could not find CCCOC(C)OC(C)CCC\n",
      "Could not find CC(=O)N1CCC=CS1\n",
      "Could not find Cc1coc(SSSSc2occ(C)c2C)c1C\n",
      "Could not find CCCC(OCC)OCCC(C)C\n",
      "Could not find CC(C)CC1(CC(C)C)CSSS1\n",
      "Could not find CC(C)C1(C(C)C)CSSS1\n",
      "Could not find CCCN1SSC=C(C)C1(C)C\n",
      "Could not find CCCC(C)(C)OC(=O)C(O)CC(=O)O\n",
      "Could not find CCCCCC1C(=O)OC(C)=C1C\n",
      "Could not find CC1=C(C)C(N2CCCC2)=NSS1\n",
      "Could not find Cc1coc(C(=O)c2cccs2)c1C\n",
      "Could not find CCCC(C)C(=S)OCC\n",
      "Could not find CCN1CCN=C2C=CC=C21\n",
      "Could not find CCCCCCCCC=CC=CC=CC=CC=O\n",
      "Could not find CCCCCC(OCC)OCCC\n",
      "Could not find CCCCC=COC(=O)C(CC)CC\n",
      "Could not find CCC(C)C(=S)OCC(C)C\n",
      "Could not find CC(C)CC1(C)C=CSSN1C\n",
      "Could not find CC(C)CS1=CNCC1\n",
      "Could not find CCCC(CS)OC=O\n",
      "Could not find SCC1CC=CS1\n",
      "Could not find CCCSC(O)(CS)CCC\n",
      "Could not find CCC(OC)c1cnccn1\n",
      "Could not find COC(=S)C(C)Cc1ccco1\n",
      "Could not find CSSC(C)c1ccco1\n",
      "Could not find CCC(=O)C(C)SSc1ccco1\n",
      "Could not find CC=CC1(C)CCOSC1(C)C\n",
      "Could not find CCC(=S)OC1CCCO1\n",
      "Could not find CSCOC(=S)C(C)C\n",
      "Could not find CCCC(C)OC(CC)OCC\n",
      "Could not find CCCOC(CC)OC(C)CCC\n",
      "Could not find CCCCCCCCCC(=O)Oc1ccccc1C\n",
      "Could not find CC1CCOSC1(C)C\n",
      "Could not find CC1CCOC1(C)S\n",
      "Could not find CC(=S)OC1(C)OCCC1C\n",
      "Request Error for \"CCOC(O)=[SH]Cc1ccco1\"\n",
      "Request Error for \"CCOC(O)=[SH]Cc1ccco1\"\n",
      "Could not find CCOC(O)=[SH]Cc1ccco1\n",
      "Could not find CCC(=O)C(C)Sc1ccco1\n",
      "Could not find CCC(=O)S1=CNCC1\n",
      "Could not find CCCCCC=CC(C)=C(C)OC(C)=O\n",
      "Could not find CC(=C(C=O)CC1CC1)C(C)C\n",
      "Could not find CCCCCCC(S)OC\n",
      "Could not find c1coc(CCSSc2ccco2)c1\n",
      "Could not find CCCCCC=C(C)C(C)=C(C)O\n",
      "Could not find CCCCCCC(C)C(C)=C(C)O\n",
      "Could not find CC1(C)CCCOS1\n",
      "Could not find CCCCCCCCC=CC(OC)OC\n",
      "Could not find CCOC(=O)C1(c2ccccc2)OC1CC\n",
      "Could not find CCCCC=COC(=O)c1ccco1\n",
      "Could not find CCCCC=COC(=O)C(C)CCC\n",
      "Could not find CCCCC=COC(=O)CCCCCCCC\n",
      "Could not find CSCC[C@H](N)C(=O)OC(=O)CS\n",
      "Could not find CCCCCCCCC(OC(C)=O)C(=O)OC\n",
      "Could not find CCCCCCCCCCC(OC=O)C(=O)OC\n",
      "Could not find COC(=O)C1(c2ccccc2C)CO1\n",
      "Could not find CC=CCOC(=O)C(C)CCC\n",
      "Could not find CCCCCCCC=COC(=O)CCC\n",
      "Could not find CCCCCCCC=COC(=O)CC(C)C\n",
      "Could not find CC(=O)OCC1C=CC(C(C)C)CC1\n",
      "Could not find CCC(=O)OC1(C)CCCCC1(C)C\n",
      "Could not find CCCCC(C)C(C)(C)OC(=O)CC(C)C\n",
      "Could not find CCCC(=O)CCSCc1ccco1\n",
      "Could not find CCCCC(=S)C1(C)CCCC(C)=C1C\n",
      "Could not find CCC(C)=C(C=O)CSC\n",
      "Could not find Cc1ccoc1SSC1(C)CCCO1\n",
      "Could not find CC(C)C=C(C=O)c1ccco1\n",
      "Could not find CCCC=CC(OCCCC)OCCCC\n",
      "Could not find CCC=CC(=O)OC=CCCCC\n",
      "Could not find CCCCCCCC=CC(=O)OC(CCCCCCCC)C(=O)O\n",
      "Could not find CC1=C(OC(=O)CO)CC(C(C)C)CC1\n",
      "Could not find CC=C(C=CC=CC=O)CC\n",
      "Could not find CC1CCSN(C)N1C\n",
      "Could not find CCCC(S)COCC\n",
      "Could not find CC1=CCCCCCCCOC1=O\n",
      "Could not find CCCCCCCCC(S)C=O\n",
      "Could not find SC(S)CCSCCC(S)S\n",
      "Could not find CCCS1=C(C)N(C)C(CC)C1\n",
      "Could not find CCCCS1=C(C)N(CC)CC1\n",
      "Could not find CSCSSc1occc1C\n",
      "Could not find CC1=C(C2=C(O)C=CCCCCC2)CCCCC(C)C(C)=C1C\n",
      "Could not find CC1=C(C2=CC=CC(=O)CCCC2)CCCCC(C)C(C)=C1C\n",
      "Could not find CCCC(CS)OC(=O)CC(C)C\n",
      "Could not find CCCCCCCCC(O)C(=O)OC(=C(C)C)C(O)CO\n",
      "Could not find CCCC1(C)CCCOS1\n",
      "Could not find CCC1=S(C)CCN1\n",
      "Request Error for \"CCCC(CCOC)[SH]=C(O)OCC\"\n",
      "Request Error for \"CCCC(CCOC)[SH]=C(O)OCC\"\n",
      "Could not find CCCC(CCOC)[SH]=C(O)OCC\n",
      "Could not find CCCCCCCCC(OC=O)C(=O)OCC\n",
      "Could not find CCCCCCCCC(C=O)SC\n",
      "Could not find CCCCC=COC(=O)C=CCCCCC\n",
      "Could not find CCCCCCCCC(=O)C(=O)OC(=C(C)C)C(O)CO\n",
      "Could not find CCCCC(C=O)SC(C)=O\n",
      "Could not find CC(C)CC(C)(O)C1CCCS1\n"
     ]
    }
   ],
   "source": [
    "# Obtain the PubChem IDs -- ~100 of these ~3500 molecules cannot be found in PubChem\n",
    "cids = pyrfume.get_cids(raw.index, kind='smiles')"
   ]
  },
  {
   "cell_type": "code",
   "execution_count": 4,
   "id": "ed95c192-5950-4901-a0e3-4503a2d34988",
   "metadata": {},
   "outputs": [],
   "source": [
    "# Add the PubChem ID column\n",
    "# 0 will be used to indicate molecules that could not be found in PubChem\n",
    "raw['CID'] = raw.index.map(cids.get)"
   ]
  },
  {
   "cell_type": "code",
   "execution_count": 5,
   "id": "cfd98eb9-e00e-407b-bc36-c4c37a30e03c",
   "metadata": {},
   "outputs": [],
   "source": [
    "# Canonicalize SMILES strings\n",
    "raw.index = map(canonical_smiles, raw.index)"
   ]
  },
  {
   "cell_type": "code",
   "execution_count": 6,
   "id": "05803548-1a05-4493-8a80-ab9f4d484a11",
   "metadata": {},
   "outputs": [
    {
     "data": {
      "application/vnd.jupyter.widget-view+json": {
       "model_id": "48a3d1b1c6aa4dae93108c872ab12e53",
       "version_major": 2,
       "version_minor": 0
      },
      "text/plain": [
       "  0%|          | 0/35 [00:00<?, ?it/s]"
      ]
     },
     "metadata": {},
     "output_type": "display_data"
    }
   ],
   "source": [
    "# Get standard information from PubChem for the CIDs that were found\n",
    "info_dict = from_cids(list(set(cids.values())))\n",
    "# Convert to a DataFrame\n",
    "info = pd.DataFrame(info_dict).set_index('CID')"
   ]
  },
  {
   "cell_type": "code",
   "execution_count": 8,
   "id": "ca6ce9c8-0ff3-4ad0-8928-5fd546830be7",
   "metadata": {},
   "outputs": [
    {
     "data": {
      "application/vnd.jupyter.widget-view+json": {
       "model_id": "360cb38e686f44dc82ed1d3d94ab7061",
       "version_major": 2,
       "version_minor": 0
      },
      "text/plain": [
       "  0%|          | 0/93 [00:00<?, ?it/s]"
      ]
     },
     "metadata": {},
     "output_type": "display_data"
    }
   ],
   "source": [
    "# Join the PubChem standard information with the original data\n",
    "df = raw.join(info, on='CID', how='left')\n",
    "\n",
    "# Those smiles associated with no CID\n",
    "empty_smiles = df[df['CID']==0].index\n",
    "\n",
    "# Fill 'IsomericSMILES' column for molecules with no CID using original SMILES from index\n",
    "df.loc[empty_smiles, 'IsomericSMILES'] = df.loc[empty_smiles].index\n",
    "\n",
    "# Fill 'name' column for molecules with no CID using original `chemical_name`\n",
    "df.loc[empty_smiles, 'name'] = df.loc[empty_smiles, 'chemical_name']\n",
    "\n",
    "# No `IUPACName` will be computed for molecules with no CID\n",
    "\n",
    "# Fill 'MolecularWeight' column for molecules with no CID using SMILES-based MW calculation\n",
    "mols = smiles_to_mol(empty_smiles, max_attempts=1000)\n",
    "mws = pd.Series({smiles: MolWt(mol) for smiles, mol in mols.items()})\n",
    "df.loc[empty_smiles, 'MolecularWeight'] = mws[empty_smiles]\n",
    "df['MolecularWeight'] = df['MolecularWeight'].astype(float)"
   ]
  },
  {
   "cell_type": "code",
   "execution_count": 9,
   "id": "8c58e83c-60fb-4a43-bab4-31f8e8fd5898",
   "metadata": {},
   "outputs": [
    {
     "data": {
      "text/html": [
       "<div>\n",
       "<style scoped>\n",
       "    .dataframe tbody tr th:only-of-type {\n",
       "        vertical-align: middle;\n",
       "    }\n",
       "\n",
       "    .dataframe tbody tr th {\n",
       "        vertical-align: top;\n",
       "    }\n",
       "\n",
       "    .dataframe thead th {\n",
       "        text-align: right;\n",
       "    }\n",
       "</style>\n",
       "<table border=\"1\" class=\"dataframe\">\n",
       "  <thead>\n",
       "    <tr style=\"text-align: right;\">\n",
       "      <th></th>\n",
       "      <th>MolecularWeight</th>\n",
       "      <th>IsomericSMILES</th>\n",
       "      <th>IUPACName</th>\n",
       "      <th>name</th>\n",
       "      <th>cas</th>\n",
       "    </tr>\n",
       "    <tr>\n",
       "      <th>CID</th>\n",
       "      <th></th>\n",
       "      <th></th>\n",
       "      <th></th>\n",
       "      <th></th>\n",
       "      <th></th>\n",
       "    </tr>\n",
       "  </thead>\n",
       "  <tbody>\n",
       "    <tr>\n",
       "      <th>0</th>\n",
       "      <td>188.336</td>\n",
       "      <td>CC(C)CC(C)(O)C1CCCS1</td>\n",
       "      <td>NaN</td>\n",
       "      <td>Isopropylmethyltetrahydrothiophenyl-ethanol</td>\n",
       "      <td>1612888-42-2</td>\n",
       "    </tr>\n",
       "    <tr>\n",
       "      <th>0</th>\n",
       "      <td>194.230</td>\n",
       "      <td>CCCCC=COC(=O)c1ccco1</td>\n",
       "      <td>NaN</td>\n",
       "      <td>Hexenyl furoate</td>\n",
       "      <td>NaN</td>\n",
       "    </tr>\n",
       "    <tr>\n",
       "      <th>0</th>\n",
       "      <td>198.306</td>\n",
       "      <td>CCCCC=COC(=O)C(C)CCC</td>\n",
       "      <td>NaN</td>\n",
       "      <td>Hexenyl methylvalerate</td>\n",
       "      <td>NaN</td>\n",
       "    </tr>\n",
       "    <tr>\n",
       "      <th>0</th>\n",
       "      <td>240.387</td>\n",
       "      <td>CCCCC=COC(=O)CCCCCCCC</td>\n",
       "      <td>NaN</td>\n",
       "      <td>Hexenyl nonanoate</td>\n",
       "      <td>88191-46-2</td>\n",
       "    </tr>\n",
       "    <tr>\n",
       "      <th>0</th>\n",
       "      <td>223.319</td>\n",
       "      <td>CSCC[C@H](N)C(=O)OC(=O)CS</td>\n",
       "      <td>NaN</td>\n",
       "      <td>Methionyl thioglycolate</td>\n",
       "      <td>852997-30-9</td>\n",
       "    </tr>\n",
       "  </tbody>\n",
       "</table>\n",
       "</div>"
      ],
      "text/plain": [
       "     MolecularWeight             IsomericSMILES IUPACName  \\\n",
       "CID                                                         \n",
       "0            188.336       CC(C)CC(C)(O)C1CCCS1       NaN   \n",
       "0            194.230       CCCCC=COC(=O)c1ccco1       NaN   \n",
       "0            198.306       CCCCC=COC(=O)C(C)CCC       NaN   \n",
       "0            240.387      CCCCC=COC(=O)CCCCCCCC       NaN   \n",
       "0            223.319  CSCC[C@H](N)C(=O)OC(=O)CS       NaN   \n",
       "\n",
       "                                            name           cas  \n",
       "CID                                                             \n",
       "0    Isopropylmethyltetrahydrothiophenyl-ethanol  1612888-42-2  \n",
       "0                                Hexenyl furoate           NaN  \n",
       "0                         Hexenyl methylvalerate           NaN  \n",
       "0                              Hexenyl nonanoate    88191-46-2  \n",
       "0                        Methionyl thioglycolate   852997-30-9  "
      ]
     },
     "execution_count": 9,
     "metadata": {},
     "output_type": "execute_result"
    }
   ],
   "source": [
    "# Create the `molecules` dataframe containing basic information about the molecules\n",
    "molecules = df[list(info) + ['CID', 'cas']].set_index('CID').copy().sort_index()\n",
    "molecules.head()"
   ]
  },
  {
   "cell_type": "code",
   "execution_count": 10,
   "id": "7d408a4d-01ba-471a-8c2c-eb041e62bb43",
   "metadata": {},
   "outputs": [],
   "source": [
    "# Create the `behavior` dataframe containing the label data; all applicable labels are contained in the `Labels` column\n",
    "behavior_sparse = df[['IsomericSMILES', 'odor_data', 'odor_labels_filtered', 'CID']].set_index('CID').sort_index()\n",
    "behavior_sparse.columns = [['IsomericSMILES', 'Raw Labels', 'Labels']]"
   ]
  },
  {
   "cell_type": "code",
   "execution_count": 11,
   "id": "88434145-b1ab-4e71-a7fc-7b1530428207",
   "metadata": {
    "tags": []
   },
   "outputs": [
    {
     "data": {
      "application/vnd.jupyter.widget-view+json": {
       "model_id": "1be8eb16b540469197e34677d6f80548",
       "version_major": 2,
       "version_minor": 0
      },
      "text/plain": [
       "  0%|          | 0/113 [00:00<?, ?it/s]"
      ]
     },
     "metadata": {},
     "output_type": "display_data"
    }
   ],
   "source": [
    "# Create a dense version of the above; each label will have its own binary-valued column\n",
    "behavior = behavior_sparse.copy()\n",
    "# All the labels in the dataset\n",
    "all_labels = set(chain.from_iterable(behavior['Labels'].squeeze().map(eval)))\n",
    "for label in tqdm(all_labels):\n",
    "    behavior[label] = behavior['Labels'].squeeze().apply(lambda x: label in eval(x)).astype(int)\n",
    "behavior = behavior.drop(['Raw Labels', 'Labels'], axis=1, level=0).sort_index(axis=1)"
   ]
  },
  {
   "cell_type": "code",
   "execution_count": 12,
   "id": "9f8082bf-2d58-4515-9ae2-2c03c4a3a3a5",
   "metadata": {},
   "outputs": [],
   "source": [
    "# Write files to disk\n",
    "molecules.to_csv('molecules.csv')\n",
    "behavior_sparse.to_csv('behavior_sparse.csv')\n",
    "behavior.to_csv('behavior.csv')"
   ]
  }
 ],
 "metadata": {
  "kernelspec": {
   "display_name": "Python 3",
   "language": "python",
   "name": "python3"
  },
  "language_info": {
   "codemirror_mode": {
    "name": "ipython",
    "version": 3
   },
   "file_extension": ".py",
   "mimetype": "text/x-python",
   "name": "python",
   "nbconvert_exporter": "python",
   "pygments_lexer": "ipython3",
   "version": "3.9.4"
  }
 },
 "nbformat": 4,
 "nbformat_minor": 5
}
