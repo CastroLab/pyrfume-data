{
 "cells": [
  {
   "cell_type": "code",
   "execution_count": 1,
   "id": "3beafcb2-527c-453b-a410-a15a5035d098",
   "metadata": {},
   "outputs": [],
   "source": [
    "import pandas as pd\n",
    "from pyrfume.odorants import get_cids, from_cids"
   ]
  },
  {
   "cell_type": "code",
   "execution_count": 2,
   "id": "5e137ebd-b192-4b9e-b486-048951824a58",
   "metadata": {},
   "outputs": [],
   "source": [
    "df = pd.read_csv('wakayama-intensity.txt', sep='\\t')"
   ]
  },
  {
   "cell_type": "code",
   "execution_count": 3,
   "id": "35d64a99-9081-491f-91c4-88ff4f0a56e0",
   "metadata": {},
   "outputs": [
    {
     "data": {
      "application/vnd.jupyter.widget-view+json": {
       "model_id": "56a569ae8eea4732af4eb0a39dff2820",
       "version_major": 2,
       "version_minor": 0
      },
      "text/plain": [
       "  0%|          | 0/314 [00:00<?, ?it/s]"
      ]
     },
     "metadata": {},
     "output_type": "display_data"
    },
    {
     "name": "stderr",
     "output_type": "stream",
     "text": [
      "Multiple CIDs for 37609-25-9: [162268, 5362736, 6506221]\n",
      "Multiple CIDs for 28069-72-9: [5362833, 34134, 5320191, 129900006]\n",
      "Could not find 80449-58-7\n",
      "Could not find 124899-75-8\n",
      "Multiple CIDs for 139504-68-0: [164422, 76965476]\n",
      "Multiple CIDs for 122-40-7: [31209, 1623625, 1712058]\n",
      "Multiple CIDs for 87-44-5: [5281515, 26318, 5281522, 6887, 5322111, 5354499, 6429274]\n",
      "Multiple CIDs for 507-70-0: [64685, 6552009, 1201518, 657014, 44630107, 10049, 6321405, 18639728, 512289, 6973640]\n",
      "Multiple CIDs for 464-49-3: [159055, 2537, 9543187, 230921, 5284500]\n",
      "Multiple CIDs for 77-54-3: [13918856, 240121, 6482, 124040727, 71719438]\n",
      "Multiple CIDs for 25152-85-6: [5367706, 32809, 5352601]\n",
      "Multiple CIDs for 31501-11-8: [5352543, 61895, 5352975]\n",
      "Multiple CIDs for 41519-23-7: [5352539, 93832, 6365985]\n",
      "Multiple CIDs for 65405-77-8: [5371102, 103379, 6021887]\n",
      "Multiple CIDs for 67883-79-8: [15461361, 49993, 6435033, 6034479, 16220109, 87289898]\n",
      "Multiple CIDs for 21662-09-9: [5362620, 61875, 5702654]\n",
      "Multiple CIDs for 6728-31-0: [5362814, 71590, 5283318]\n",
      "Multiple CIDs for 35854-86-5: [5362792, 61950, 5362811]\n",
      "Multiple CIDs for 488-10-8: [1549018, 10261, 1549019]\n",
      "Could not find 58985-02-7\n",
      "Multiple CIDs for 10339-55-6: [6433547, 25185]\n",
      "Multiple CIDs for 134-28-1: [61079, 240122, 23623661, 92143365]\n",
      "Multiple CIDs for 124-76-5: [6321405, 64685, 6552009, 61060, 439569, 126961757, 230920, 6973640, 18345891, 6850744]\n",
      "Multiple CIDs for 125-12-2: [6448, 247573, 6950273, 637531, 442460, 12097317]\n",
      "Multiple CIDs for 39872-57-6: [6438067, 118097]\n",
      "Multiple CIDs for 491-07-6: [6986, 6432469, 70962]\n",
      "Multiple CIDs for 67633-96-9: [5365699, 6437112, 105511]\n",
      "Multiple CIDs for 93-16-3: [637776, 7128, 1549045]\n",
      "Multiple CIDs for 7212-44-4: [5284507, 8888, 11241545, 5281525, 5320128]\n",
      "Multiple CIDs for 4674-50-4: [1268142, 20797, 7567181, 89256616]\n",
      "Could not find 113889-23-9\n",
      "Multiple CIDs for 87731-18-8: [54027559, 5463762]\n"
     ]
    }
   ],
   "source": [
    "cas_cids = get_cids(df['CAS'], kind='name')"
   ]
  },
  {
   "cell_type": "code",
   "execution_count": 4,
   "id": "226bae28-2097-4914-b280-92a12e658449",
   "metadata": {},
   "outputs": [],
   "source": [
    "manual_cids = {'80449-58-7': 225700,\n",
    "               '124899-75-8': 106729,\n",
    "               '58985-02-7': 10353,  \n",
    "               '113889-23-9': 44153588}\n",
    "cas_cids.update(manual_cids)"
   ]
  },
  {
   "cell_type": "code",
   "execution_count": 5,
   "id": "b24079ea-9999-46fe-bcf3-c38f19df75c2",
   "metadata": {},
   "outputs": [],
   "source": [
    "df['CID'] = df['CAS'].apply(cas_cids.get)\n",
    "assert all(df['CID']>0)"
   ]
  },
  {
   "cell_type": "code",
   "execution_count": 6,
   "id": "b6d66e4f-4c5f-4eb6-91c5-c7018d6b9026",
   "metadata": {},
   "outputs": [
    {
     "data": {
      "text/html": [
       "<div>\n",
       "<style scoped>\n",
       "    .dataframe tbody tr th:only-of-type {\n",
       "        vertical-align: middle;\n",
       "    }\n",
       "\n",
       "    .dataframe tbody tr th {\n",
       "        vertical-align: top;\n",
       "    }\n",
       "\n",
       "    .dataframe thead th {\n",
       "        text-align: right;\n",
       "    }\n",
       "</style>\n",
       "<table border=\"1\" class=\"dataframe\">\n",
       "  <thead>\n",
       "    <tr style=\"text-align: right;\">\n",
       "      <th></th>\n",
       "      <th>CAS</th>\n",
       "      <th>Name</th>\n",
       "      <th>I_max</th>\n",
       "      <th>C</th>\n",
       "      <th>D</th>\n",
       "    </tr>\n",
       "    <tr>\n",
       "      <th>CID</th>\n",
       "      <th></th>\n",
       "      <th></th>\n",
       "      <th></th>\n",
       "      <th></th>\n",
       "      <th></th>\n",
       "    </tr>\n",
       "  </thead>\n",
       "  <tbody>\n",
       "    <tr>\n",
       "      <th>179</th>\n",
       "      <td>513-86-0</td>\n",
       "      <td>acetoin</td>\n",
       "      <td>49.69</td>\n",
       "      <td>0.90</td>\n",
       "      <td>0.76</td>\n",
       "    </tr>\n",
       "    <tr>\n",
       "      <th>240</th>\n",
       "      <td>100-52-7</td>\n",
       "      <td>benzaldehyde</td>\n",
       "      <td>62.02</td>\n",
       "      <td>1.23</td>\n",
       "      <td>0.69</td>\n",
       "    </tr>\n",
       "    <tr>\n",
       "      <th>244</th>\n",
       "      <td>100-51-6</td>\n",
       "      <td>benzyl alcohol</td>\n",
       "      <td>30.28</td>\n",
       "      <td>1.49</td>\n",
       "      <td>0.33</td>\n",
       "    </tr>\n",
       "    <tr>\n",
       "      <th>323</th>\n",
       "      <td>91-64-5</td>\n",
       "      <td>coumarin</td>\n",
       "      <td>26.79</td>\n",
       "      <td>-0.68</td>\n",
       "      <td>0.77</td>\n",
       "    </tr>\n",
       "    <tr>\n",
       "      <th>326</th>\n",
       "      <td>122-03-2</td>\n",
       "      <td>cumin aldehyde</td>\n",
       "      <td>49.53</td>\n",
       "      <td>1.29</td>\n",
       "      <td>0.47</td>\n",
       "    </tr>\n",
       "  </tbody>\n",
       "</table>\n",
       "</div>"
      ],
      "text/plain": [
       "          CAS            Name  I_max     C     D\n",
       "CID                                             \n",
       "179  513-86-0         acetoin  49.69  0.90  0.76\n",
       "240  100-52-7    benzaldehyde  62.02  1.23  0.69\n",
       "244  100-51-6  benzyl alcohol  30.28  1.49  0.33\n",
       "323   91-64-5        coumarin  26.79 -0.68  0.77\n",
       "326  122-03-2  cumin aldehyde  49.53  1.29  0.47"
      ]
     },
     "execution_count": 6,
     "metadata": {},
     "output_type": "execute_result"
    }
   ],
   "source": [
    "df = df.set_index('CID').sort_index()\n",
    "df.head()"
   ]
  },
  {
   "cell_type": "code",
   "execution_count": 7,
   "id": "8a22c80f-1dbb-4197-bb3d-75c3e1f4c814",
   "metadata": {},
   "outputs": [
    {
     "data": {
      "application/vnd.jupyter.widget-view+json": {
       "model_id": "802d27112184470e943da544ea09c407",
       "version_major": 2,
       "version_minor": 0
      },
      "text/plain": [
       "  0%|          | 0/4 [00:00<?, ?it/s]"
      ]
     },
     "metadata": {},
     "output_type": "display_data"
    },
    {
     "name": "stdout",
     "output_type": "stream",
     "text": [
      "Retrieving 0 through 99\n",
      "Retrieving 100 through 199\n",
      "Retrieving 200 through 299\n",
      "Retrieving 300 through 313\n"
     ]
    }
   ],
   "source": [
    "molecules = pd.DataFrame(from_cids(df.index)).set_index('CID')"
   ]
  },
  {
   "cell_type": "code",
   "execution_count": 8,
   "id": "13c2cf8b-393d-417f-87e8-8f87d1a69164",
   "metadata": {},
   "outputs": [],
   "source": [
    "molecules[['CAS', 'Original Name']] = df[['CAS', 'Name']]\n",
    "molecules.to_csv('molecules.csv')"
   ]
  },
  {
   "cell_type": "code",
   "execution_count": 9,
   "id": "01c43911-10a3-4827-8ef5-ecc5ec3a64bd",
   "metadata": {},
   "outputs": [],
   "source": [
    "behavior = df[['I_max', 'C', 'D']]\n",
    "behavior.to_csv('behavior.csv')"
   ]
  }
 ],
 "metadata": {
  "kernelspec": {
   "display_name": "Python 3",
   "language": "python",
   "name": "python3"
  },
  "language_info": {
   "codemirror_mode": {
    "name": "ipython",
    "version": 3
   },
   "file_extension": ".py",
   "mimetype": "text/x-python",
   "name": "python",
   "nbconvert_exporter": "python",
   "pygments_lexer": "ipython3",
   "version": "3.9.4"
  }
 },
 "nbformat": 4,
 "nbformat_minor": 5
}
