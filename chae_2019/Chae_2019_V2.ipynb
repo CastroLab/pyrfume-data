{
 "cells": [
  {
   "cell_type": "code",
   "execution_count": 1,
   "id": "ccd82d31",
   "metadata": {},
   "outputs": [],
   "source": [
    "import os\n",
    "import scipy.io as sio\n",
    "import pandas as pd\n",
    "from pyrfume import odorants\n",
    "import numpy as np\n",
    "from collections import OrderedDict\n",
    "import matplotlib.pyplot as plt"
   ]
  },
  {
   "cell_type": "markdown",
   "id": "fe3b32b1",
   "metadata": {},
   "source": [
    "# I. Glomerular data \n",
    "\n",
    "### Grabbing the glomerular data"
   ]
  },
  {
   "cell_type": "code",
   "execution_count": 3,
   "id": "c2914969",
   "metadata": {},
   "outputs": [],
   "source": [
    "saved_path = os.getcwd()\n",
    "root = '/Users/jcastro/Documents/GitHub/pyrfume-data/chae_2019/' # set as needed\n",
    "glom = 'mosaic_representations/glomerular_data/glomerular_responses/glomerular_responses__main'\n",
    "\n",
    "if not os.path.exists(root + 'pyrfumeData'):\n",
    "    os.mkdir(root + 'pyrfumeData') # new directory to store csvs for Pyrfume\n",
    "\n",
    "os.chdir(root + glom)\n",
    "\n",
    "glom_responses_left = OrderedDict()\n",
    "glom_responses_right = OrderedDict()\n",
    "ROIs_left = OrderedDict()\n",
    "ROIs_right = OrderedDict()\n",
    "\n",
    "\n",
    "# walk through the directories and grab the glomerular response data\n",
    "for root, dirs, files in os.walk(root + glom):\n",
    "    for filename in files:\n",
    "        res = root.split('/')\n",
    "        hemibulb, animal = res[-1], res[-2]\n",
    "        \n",
    "        if filename.endswith('responses.mat'):\n",
    "            \n",
    "            thedata = sio.loadmat(root + '/'+ filename) \n",
    "            \n",
    "            if hemibulb == 'left_hemibulb':\n",
    "                glom_responses_left[animal] = thedata['left_hemibulb_ROI_responses']\n",
    "                \n",
    "            if hemibulb == 'right_hemibulb':\n",
    "                glom_responses_right[animal] = thedata['right_hemibulb_ROI_responses']\n",
    "    \n",
    "        if filename.endswith('descriptors.mat'):\n",
    "            \n",
    "            thedata = sio.loadmat(root + '/' + filename)\n",
    "            \n",
    "            if hemibulb == 'left_hemibulb':\n",
    "                ROIs_left[animal] = thedata['left_hemibulb_ROI_descriptors']\n",
    "                \n",
    "            if hemibulb == 'right_hemibulb':\n",
    "                ROIs_right[animal] = thedata['right_hemibulb_ROI_descriptors']\n",
    "\n",
    "# grab the molecule list, which is up a directory\n",
    "\n",
    "root = '/Users/jcastro/Documents/GitHub/pyrfume-data/chae_2019/' \n",
    "path = root + 'mosaic_representations/supplementary table 1 odors with cas and cid.xlsx'\n",
    "\n",
    "glom_CIDs = pd.read_excel(path, header = 0, sheet_name='Glomerular odor panel',\n",
    "                              usecols = 'C', squeeze=True)\n",
    "\n",
    "# putting  a dummy value in for the nan, so that the function odorants.from_cids doesn't throw an error\n",
    "glom_CIDs = glom_CIDs.replace(np.nan, 123456).values.tolist()\n",
    "\n",
    "#values.tolist()\n",
    "\n",
    "glom_CIDs = list(map(int,glom_CIDs))\n",
    "os.chdir(saved_path)"
   ]
  },
  {
   "cell_type": "markdown",
   "id": "3bc2c346",
   "metadata": {},
   "source": [
    "Generate the CIDs for the molecules:\n",
    "***"
   ]
  },
  {
   "cell_type": "code",
   "execution_count": 4,
   "id": "d819355f",
   "metadata": {},
   "outputs": [
    {
     "data": {
      "application/vnd.jupyter.widget-view+json": {
       "model_id": "0bc4ab55964f40d28e2a00feb3cc90a7",
       "version_major": 2,
       "version_minor": 0
      },
      "text/plain": [
       "  0%|          | 0/1 [00:00<?, ?it/s]"
      ]
     },
     "metadata": {},
     "output_type": "display_data"
    }
   ],
   "source": [
    "molecules = OrderedDict()\n",
    "mols = odorants.from_cids(glom_CIDs)\n",
    "\n",
    "# address the pathological row 'coffee' (row #40), which has no PCID. Obviously. \n",
    "mols[40]['CID'] = ''\n",
    "mols[40]['MolecularWeight'] =''\n",
    "mols[40]['IsomericSMILES'] =''\n",
    "mols[40]['IUPACName'] = ''\n",
    "mols[40]['name'] = 'coffee'\n",
    "\n",
    "mols_df = pd.DataFrame(mols)\n",
    "mols_df.set_index('CID', inplace = True)"
   ]
  },
  {
   "cell_type": "code",
   "execution_count": 5,
   "id": "1ea4b649",
   "metadata": {
    "collapsed": true
   },
   "outputs": [
    {
     "data": {
      "text/html": [
       "<div>\n",
       "<style scoped>\n",
       "    .dataframe tbody tr th:only-of-type {\n",
       "        vertical-align: middle;\n",
       "    }\n",
       "\n",
       "    .dataframe tbody tr th {\n",
       "        vertical-align: top;\n",
       "    }\n",
       "\n",
       "    .dataframe thead th {\n",
       "        text-align: right;\n",
       "    }\n",
       "</style>\n",
       "<table border=\"1\" class=\"dataframe\">\n",
       "  <thead>\n",
       "    <tr style=\"text-align: right;\">\n",
       "      <th></th>\n",
       "      <th>MolecularWeight</th>\n",
       "      <th>IsomericSMILES</th>\n",
       "      <th>IUPACName</th>\n",
       "      <th>name</th>\n",
       "    </tr>\n",
       "    <tr>\n",
       "      <th>CID</th>\n",
       "      <th></th>\n",
       "      <th></th>\n",
       "      <th></th>\n",
       "      <th></th>\n",
       "    </tr>\n",
       "  </thead>\n",
       "  <tbody>\n",
       "    <tr>\n",
       "      <th>16015</th>\n",
       "      <td>452.4</td>\n",
       "      <td>C1=CC=C(C=C1)N=NC2=C(C=CC3=CC(=CC(=C32)S(=O)(=...</td>\n",
       "      <td>disodium;7-hydroxy-8-phenyldiazenylnaphthalene...</td>\n",
       "      <td>orange g</td>\n",
       "    </tr>\n",
       "    <tr>\n",
       "      <th>5283349</th>\n",
       "      <td>152.23</td>\n",
       "      <td>CCCCC/C=C/C=C/C=O</td>\n",
       "      <td>(2E,4E)-deca-2,4-dienal</td>\n",
       "      <td>(2e,4e)-deca-2,4-dienal</td>\n",
       "    </tr>\n",
       "    <tr>\n",
       "      <th>5367762</th>\n",
       "      <td>142.20</td>\n",
       "      <td>CCCOC(=O)/C(=C/C)/C</td>\n",
       "      <td>propyl (E)-2-methylbut-2-enoate</td>\n",
       "      <td>propyl tiglate</td>\n",
       "    </tr>\n",
       "    <tr>\n",
       "      <th>8063</th>\n",
       "      <td>86.13</td>\n",
       "      <td>CCCCC=O</td>\n",
       "      <td>pentanal</td>\n",
       "      <td>valeraldehyde</td>\n",
       "    </tr>\n",
       "    <tr>\n",
       "      <th>11747</th>\n",
       "      <td>100.12</td>\n",
       "      <td>CCC(=O)C(=O)C</td>\n",
       "      <td>pentane-2,3-dione</td>\n",
       "      <td>2,3-pentanedione</td>\n",
       "    </tr>\n",
       "  </tbody>\n",
       "</table>\n",
       "</div>"
      ],
      "text/plain": [
       "        MolecularWeight                                     IsomericSMILES  \\\n",
       "CID                                                                          \n",
       "16015             452.4  C1=CC=C(C=C1)N=NC2=C(C=CC3=CC(=CC(=C32)S(=O)(=...   \n",
       "5283349          152.23                                  CCCCC/C=C/C=C/C=O   \n",
       "5367762          142.20                                CCCOC(=O)/C(=C/C)/C   \n",
       "8063              86.13                                            CCCCC=O   \n",
       "11747            100.12                                      CCC(=O)C(=O)C   \n",
       "\n",
       "                                                 IUPACName  \\\n",
       "CID                                                          \n",
       "16015    disodium;7-hydroxy-8-phenyldiazenylnaphthalene...   \n",
       "5283349                            (2E,4E)-deca-2,4-dienal   \n",
       "5367762                    propyl (E)-2-methylbut-2-enoate   \n",
       "8063                                              pentanal   \n",
       "11747                                    pentane-2,3-dione   \n",
       "\n",
       "                            name  \n",
       "CID                               \n",
       "16015                   orange g  \n",
       "5283349  (2e,4e)-deca-2,4-dienal  \n",
       "5367762           propyl tiglate  \n",
       "8063               valeraldehyde  \n",
       "11747           2,3-pentanedione  "
      ]
     },
     "execution_count": 5,
     "metadata": {},
     "output_type": "execute_result"
    }
   ],
   "source": [
    "mols_df.head()"
   ]
  },
  {
   "cell_type": "markdown",
   "id": "7735a769",
   "metadata": {},
   "source": [
    "### Write the glomerular data to disk"
   ]
  },
  {
   "cell_type": "code",
   "execution_count": 9,
   "id": "7e670274",
   "metadata": {},
   "outputs": [],
   "source": [
    "# write the molecules to csv:\n",
    "\n",
    "root = '/Users/jcastro/Documents/GitHub/pyrfume-data/chae_2019/PyrfumeData/' # set as needed\n",
    "mols_df.to_csv(root + 'molecules_glom_57.csv')\n",
    "\n",
    "# write the glomerular data to csv\n",
    "\n",
    "for n in range(1,6):\n",
    "    animalNum = 'animal_#' + str(n)\n",
    "    data_left = pd.DataFrame(data = np.array(glom_responses_left[animalNum]))\n",
    "    data_right = pd.DataFrame(data = np.array(glom_responses_right[animalNum]))\n",
    "    \n",
    "    filename = animalNum + '_glom.csv'\n",
    "    data_left.to_csv(header=False, index=False, path_or_buf = root + 'left_' + filename)\n",
    "    data_right.to_csv(header=False, index=False, path_or_buf = root + 'right_' + filename)"
   ]
  },
  {
   "cell_type": "markdown",
   "id": "c2f190ca",
   "metadata": {},
   "source": [
    "# II Mitral/Tufted data\n",
    "\n",
    "## Grabbing the mitral/tufted data"
   ]
  },
  {
   "cell_type": "code",
   "execution_count": 10,
   "id": "a7c9c35f",
   "metadata": {
    "scrolled": false
   },
   "outputs": [],
   "source": [
    "saved_path = os.getcwd()\n",
    "root = '/Users/jcastro/Documents/GitHub/pyrfume-data/chae_2019/' \n",
    "mitral = 'mosaic_representations/MT_cell/'\n",
    "\n",
    "#mitral_cells/'\n",
    "os.chdir(root + mitral)\n",
    "\n",
    "mitral_33 = OrderedDict()\n",
    "mitral_55 = OrderedDict()\n",
    "tufted = OrderedDict()\n",
    "\n",
    "# walk through the directories and grab the glomerular response data\n",
    "for root, dirs, files in os.walk(root + mitral):\n",
    "    for filename in files:\n",
    "        res = root.split('/')\n",
    "        experiment_type = res[-1] # tufted, or mitral1 (33 odorants), or mitral2 (55 odorants)\n",
    "        \n",
    "        if filename.endswith('.mat'):\n",
    "            namestring = filename.split('.')[-2]\n",
    "            thedata = sio.loadmat(root + '/'+ filename) \n",
    "            \n",
    "            if experiment_type == 'tufted_cells':\n",
    "                tufted[namestring] = thedata['R']\n",
    "            if experiment_type == '33_odors':\n",
    "                mitral_33[namestring] = thedata['R']\n",
    "            if experiment_type == '55_odors':\n",
    "                mitral_55[namestring] = thedata['R']\n",
    "\n",
    "# beans = pd.read_excel('MT_cells.xlsx', sheet_name = 'odor list_33 odors', header=0, usecols = 'B').to_numpy()\n",
    "mitral33_mol_list = pd.read_excel('MT_cells.xlsx', sheet_name='odor list_33 odors', header=0, usecols = 'B').to_numpy()\n",
    "mitral55_mol_list = pd.read_excel('MT_cells.xlsx', sheet_name='odor list_55 odors', header=0, usecols = 'B').to_numpy()\n",
    "\n",
    "# flatten:\n",
    "mitral_33_mol_list = [item[0] for item in mitral33_mol_list]\n",
    "mitral_55_mol_list = [item[0] for item in mitral55_mol_list]\n",
    "\n",
    "os.chdir(saved_path)"
   ]
  },
  {
   "cell_type": "code",
   "execution_count": 11,
   "id": "01f263a0",
   "metadata": {},
   "outputs": [
    {
     "data": {
      "application/vnd.jupyter.widget-view+json": {
       "model_id": "650facc7b972444990894dbd0ab08495",
       "version_major": 2,
       "version_minor": 0
      },
      "text/plain": [
       "  0%|          | 0/33 [00:00<?, ?it/s]"
      ]
     },
     "metadata": {},
     "output_type": "display_data"
    },
    {
     "name": "stderr",
     "output_type": "stream",
     "text": [
      "Could not find ethyl 3-mercapto propionate\n",
      "Could not find 4-siopropyl benzaldehyde\n"
     ]
    }
   ],
   "source": [
    "# get cids from molecule names, for the panel of 33 odorants: \n",
    "mitral_33_cids = odorants.get_cids(mitral_33_mol_list)"
   ]
  },
  {
   "cell_type": "code",
   "execution_count": 12,
   "id": "18191633",
   "metadata": {},
   "outputs": [
    {
     "data": {
      "application/vnd.jupyter.widget-view+json": {
       "model_id": "165f605e7aae4dfda46b291bb0f43619",
       "version_major": 2,
       "version_minor": 0
      },
      "text/plain": [
       "  0%|          | 0/55 [00:00<?, ?it/s]"
      ]
     },
     "metadata": {},
     "output_type": "display_data"
    },
    {
     "name": "stderr",
     "output_type": "stream",
     "text": [
      "Could not find ethyl 3-mercapto propionate\n",
      "Could not find fenchone (-)\n",
      "Could not find citral cis+trans\n",
      "Could not find 3-acetal 2,5 dimethyl furan\n",
      "Could not find phenyl ethyl acetate\n",
      "Could not find carvyl acetate (-)\n",
      "Could not find trans 2-hexenol\n"
     ]
    }
   ],
   "source": [
    "# get cids from molecule names, for the panel of 55 odorants:\n",
    "mitral_55_cids = odorants.get_cids(mitral_55_mol_list)"
   ]
  },
  {
   "cell_type": "markdown",
   "id": "82aa1337",
   "metadata": {},
   "source": [
    "### Addressing a couple pathological cases where CIDs weren't found: \n"
   ]
  },
  {
   "cell_type": "code",
   "execution_count": 13,
   "id": "c96e154c",
   "metadata": {},
   "outputs": [],
   "source": [
    "# hard-coding CIDS for pathological cases:\n",
    "\n",
    "mitral_33_cids['ethyl 3-mercapto propionate'] = 21625\n",
    "mitral_33_cids['4-siopropyl benzaldehyde'] = 325\n",
    "\n",
    "mitral_55_cids['3-mercapto propionate'] = 21625\n",
    "mitral_55_cids['fenchone (-)'] = 82229\n",
    "mitral_55_cids['citral cis+trans'] = 638011\n",
    "mitral_55_cids['3-acetal 2,5 dimethyl furan'] = 61527\n",
    "mitral_55_cids['phenyl ethyl acetate'] = 7654\n",
    "mitral_55_cids['carvyl acetate (-)'] = 735\n",
    "mitral_55_cids['2-hexenol'] = 5318042"
   ]
  },
  {
   "cell_type": "markdown",
   "id": "76656cf5",
   "metadata": {},
   "source": [
    "### Write the molecule files for the mitral/tufted data:"
   ]
  },
  {
   "cell_type": "code",
   "execution_count": 16,
   "id": "8c0c7b00",
   "metadata": {
    "scrolled": true
   },
   "outputs": [
    {
     "data": {
      "application/vnd.jupyter.widget-view+json": {
       "model_id": "a03cbdc126a541d29569c7cb2debb033",
       "version_major": 2,
       "version_minor": 0
      },
      "text/plain": [
       "  0%|          | 0/1 [00:00<?, ?it/s]"
      ]
     },
     "metadata": {},
     "output_type": "display_data"
    },
    {
     "data": {
      "application/vnd.jupyter.widget-view+json": {
       "model_id": "eaf14461de934743b202cd179a6e8701",
       "version_major": 2,
       "version_minor": 0
      },
      "text/plain": [
       "  0%|          | 0/1 [00:00<?, ?it/s]"
      ]
     },
     "metadata": {},
     "output_type": "display_data"
    }
   ],
   "source": [
    "# DataFrames for the various odorant panels. \n",
    "# Note that the tufted cell panel is the same as the mitral 55 panel. \n",
    "\n",
    "mols_33_mitral = odorants.from_cids(list(mitral_33_cids.values()))\n",
    "mols_33_mitral_df = pd.DataFrame(mols_33_mitral)\n",
    "mols_33_mitral_df.set_index('CID', inplace = True)\n",
    "\n",
    "mols_55_mitral = odorants.from_cids(list(mitral_55_cids.values()))\n",
    "mols_55_mitral_df = pd.DataFrame(mols_55_mitral)\n",
    "mols_55_mitral_df.set_index('CID', inplace = True)\n",
    "\n",
    "mols_tufted_df = mols_55_mitral_df # making this just to avoid ambiguity\n"
   ]
  },
  {
   "cell_type": "code",
   "execution_count": 22,
   "id": "c2e58d9e",
   "metadata": {},
   "outputs": [],
   "source": [
    "# Write the data: \n",
    "root = '/Users/jcastro/Documents/GitHub/pyrfume-data/chae_2019/pyrfumeData/' \n",
    "\n",
    "filename = 'molecules_mitral_55.csv'\n",
    "mols_55_mitral_df.to_csv(root + filename)\n",
    "filename = 'molecules_mitral_33.csv'\n",
    "mols_33_mitral_df.to_csv(root + filename)\n",
    "filename = 'molecules_tufted_55.csv'\n",
    "mols_tufted_df.to_csv(root + filename)"
   ]
  },
  {
   "cell_type": "code",
   "execution_count": 15,
   "id": "72d4a99f",
   "metadata": {},
   "outputs": [],
   "source": [
    "root = '/Users/jcastro/Documents/GitHub/pyrfume-data/chae_2019/pyrfumeData/' \n",
    "\n",
    "# mitral 33 data: \n",
    "\n",
    "filenames_mc33 = list(mitral_33.keys())\n",
    "data_mc33 = list(mitral_33.values())\n",
    "\n",
    "for i in range(len(filenames_mc33)):\n",
    "    filename = filenames_mc33[i] + '_33.csv'\n",
    "    data = pd.DataFrame(data = data_mc33[i])\n",
    "    data.to_csv(header=False, index = False, path_or_buf = root + filename)\n",
    "\n",
    "# mitral 55 data:\n",
    "filenames_mc55 = list(mitral_55.keys())\n",
    "data_mc55 = list(mitral_55.values())\n",
    "\n",
    "for i in range(len(filenames_mc55)):\n",
    "    filename = filenames_mc55[i] + '_55.csv'\n",
    "    data = pd.DataFrame(data = data_mc55[i])\n",
    "    data.to_csv(header=False, index = False, path_or_buf = root + filename)\n",
    "\n",
    "# tufted data:\n",
    "filenames_tufted = list(tufted.keys())\n",
    "data_tufted = list(tufted.values())\n",
    "\n",
    "for i in range(len(filenames_tufted)):\n",
    "    filename = filenames_tufted[i] + '_55.csv'\n",
    "    data = pd.DataFrame(data = data_tufted[i])\n",
    "    data.to_csv(header=False, index = False, path_or_buf = root + filename)"
   ]
  }
 ],
 "metadata": {
  "kernelspec": {
   "display_name": "Python 3",
   "language": "python",
   "name": "python3"
  },
  "language_info": {
   "codemirror_mode": {
    "name": "ipython",
    "version": 3
   },
   "file_extension": ".py",
   "mimetype": "text/x-python",
   "name": "python",
   "nbconvert_exporter": "python",
   "pygments_lexer": "ipython3",
   "version": "3.8.8"
  }
 },
 "nbformat": 4,
 "nbformat_minor": 5
}
