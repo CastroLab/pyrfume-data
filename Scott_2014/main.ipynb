
#https://pyrfume.org/pyrfume/your-data.html
#https://github.com/orgs/pyrfume/projects/1/
#https://tabula-py.readthedocs.io/en/latest/


#libraries
import pandas as pd
import pyrfume
from pyrfume import get_cids
from pyrfume import from_cids


#Url + Convert First table into dataframe
url = 'https://www.jneurosci.org/content/34/6/2025/tab-figures-data'
dfs = pd.read_html(url)
df = dfs[0]



# Seperate Dataframe into two tables based on indices
df2 = df.iloc[:,[4,5,6,7]]

df = df.iloc[:,[0,1,2,3]]


#Rename columns of second dataframe and concatenate into 1 dataframe
df2 = df2.rename(columns={"Number.1": "Number", "Odorant.1": "Odorant", "Log(air/mucus partition coefficient).1": "Log(air/mucus partition coefficient)", "Chemical Abstracts Service (CAS) registry number.1": "Chemical Abstracts Service (CAS) registry number"})

df3 = pd.concat([df,df2])
df3.to_csv('Behavior.csv', index=False) # Table 1 into csv


#Getting Molecules and CIDs
names = df3['Odorant'].tolist()
cids = get_cids(names)
cids = pd.Series(cids)
info = from_cids(cids.values)
molecules = pd.DataFrame(info).set_index('CID')

#Making new rows for unknown molecules
new_row = {'MolecularWeight':0, 'IsomericSMILES':0, 'IUPACName':0, 'name':'Methyl pyridone'}
new_row2 = {'MolecularWeight':0, 'IsomericSMILES':0, 'IUPACName':0, 'name':'Ethylacetoacetate'}
new_row3 = {'MolecularWeight':0, 'IsomericSMILES':0, 'IUPACName':0, 'name':'Cyclohex anone'}
new_row4 = {'MolecularWeight':0, 'IsomericSMILES':0, 'IUPACName':0, 'name':'Cineole-1-8'}
new_row5 = {'MolecularWeight':0, 'IsomericSMILES':0, 'IUPACName':0, 'name':'Methyl nonanate'}
new_row6 = {'MolecularWeight':0, 'IsomericSMILES':0, 'IUPACName':0, 'name':'Cineole-1-4'}
new_row7 = {'MolecularWeight':0, 'IsomericSMILES':0, 'IUPACName':0, 'name':'Methyloctanoate'}
new_row8 = {'MolecularWeight':0, 'IsomericSMILES':0, 'IUPACName':0, 'name':'Cyclohexylacetate'}
new_row9 = {'MolecularWeight':0, 'IsomericSMILES':0, 'IUPACName':0, 'name':'Vinyl cyclohexane'}

#appending those new rows
molecules = molecules.append(new_row, ignore_index=True)
molecules = molecules.append(new_row2, ignore_index=True)
molecules = molecules.append(new_row3, ignore_index=True)
molecules = molecules.append(new_row4, ignore_index=True)
molecules = molecules.append(new_row5, ignore_index=True)
molecules = molecules.append(new_row6, ignore_index=True)
molecules = molecules.append(new_row7, ignore_index=True)
molecules = molecules.append(new_row8, ignore_index=True)
molecules = molecules.append(new_row9, ignore_index=True)



molecules.to_csv("molecules.csv")# molecules to csv
