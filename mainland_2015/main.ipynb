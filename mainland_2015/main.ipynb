#libraries
import pandas as pd
import pyrfume
from pyrfume import get_cids
from pyrfume import from_cids

#Url + Convert First table into dataframe
url = 'https://www.nature.com/articles/sdata20152/tables/2'
dfs = pd.read_html(url)
df = dfs[0]

df = df.drop_duplicates(subset=['OdorName'])
#MoleculeNames
names = df['OdorName'].tolist()
cids = get_cids(names)
cids = pd.Series(cids)
info = from_cids(cids.values)
molecules = pd.DataFrame(info).set_index('CID')

#Adding_Unknown_names
names = ['sandalwood','2-decenal','jasmine','(â)-menthol','cinnamon','spearmint','TMT','banana','nutmeg','(â)-carvone']
for i in names:
  new_row = {'MolecularWeight':0, 'IsomericSMILES':0, 'IUPACName':0, 'name': i}
  molecules.append(new_row, ignore_index=True)

#converting_to_csv
df.to_csv('behavior.csv')
molecules.to_csv('molecules.csv')
