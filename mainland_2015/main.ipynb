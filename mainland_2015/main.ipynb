#libraries
import pandas as pd
import pyrfume
from pyrfume import get_cids
from pyrfume import from_cids


#Url + Convert First table into dataframe
url = 'https://www.nature.com/articles/sdata20152/tables/2'
dfs = pd.read_html(url)
df = dfs[0]

df = df.drop_duplicates(subset=['OdorName'])
#Molecule Names
names = df['OdorName'].tolist()
cids = get_cids(names)
cids = pd.Series(cids)
info = from_cids(cids.values)
molecules = pd.DataFrame(info).set_index('CID')

# Adding rows for unknown molecules
new_row = {'MolecularWeight':0, 'IsomericSMILES':0, 'IUPACName':0, 'name':'sandalwood'}
new_row2 = {'MolecularWeight':0, 'IsomericSMILES':0, 'IUPACName':0, 'name':'2-decenal'}
new_row3 = {'MolecularWeight':0, 'IsomericSMILES':0, 'IUPACName':0, 'name':'jasmine'}
new_row4 = {'MolecularWeight':0, 'IsomericSMILES':0, 'IUPACName':0, 'name':'(â)-menthol'}
new_row5 = {'MolecularWeight':0, 'IsomericSMILES':0, 'IUPACName':0, 'name':'cinnamon'}
new_row6 = {'MolecularWeight':0, 'IsomericSMILES':0, 'IUPACName':0, 'name':'spearmint'}
new_row7 = {'MolecularWeight':0, 'IsomericSMILES':0, 'IUPACName':0, 'name':'TMT'}
new_row8 = {'MolecularWeight':0, 'IsomericSMILES':0, 'IUPACName':0, 'name':'banana'}
new_row9 = {'MolecularWeight':0, 'IsomericSMILES':0, 'IUPACName':0, 'name':'nutmeg'}
new_row10 = {'MolecularWeight':0, 'IsomericSMILES':0, 'IUPACName':0, 'name':'(â)-carvone'}

#Adding rules
molecules = molecules.append(new_row, ignore_index=True)
molecules = molecules.append(new_row2, ignore_index=True)
molecules = molecules.append(new_row3, ignore_index=True)
molecules = molecules.append(new_row4, ignore_index=True)
molecules = molecules.append(new_row5, ignore_index=True)
molecules = molecules.append(new_row6, ignore_index=True)
molecules = molecules.append(new_row7, ignore_index=True)
molecules = molecules.append(new_row8, ignore_index=True)
molecules = molecules.append(new_row9, ignore_index=True)
molecules = molecules.append(new_row10, ignore_index=True)

df.to_csv('Behavior.csv')
molecules.to_csv('molecules.csv')
