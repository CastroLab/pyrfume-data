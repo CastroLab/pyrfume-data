{
 "cells": [
  {
   "cell_type": "code",
   "execution_count": 312,
   "id": "2a79dd12-70fc-4ee8-91cf-8224022ffe90",
   "metadata": {},
   "outputs": [],
   "source": [
    "from matplotlib.cm import get_cmap\n",
    "import numpy as np\n",
    "import pandas as pd\n",
    "import pyrfume\n",
    "import toml\n",
    "import warnings"
   ]
  },
  {
   "cell_type": "code",
   "execution_count": 313,
   "id": "581f4c8c-9556-47fd-86a8-447cd62affe5",
   "metadata": {},
   "outputs": [],
   "source": [
    "markdown = \"\"\n",
    "\n",
    "archives = pyrfume.list_archives()\n",
    "all_tags = []\n",
    "manifests = {}\n",
    "cmap = get_cmap('rainbow')\n",
    "\n",
    "for archive in archives:\n",
    "    manifests[archive] = pyrfume.load_manifest(archive)\n",
    "    tags = manifests[archive]['source'].get('tags')\n",
    "    if tags:\n",
    "        all_tags += tags.split(';')\n",
    "all_tags = list(set(all_tags))\n",
    "\n",
    "classes = {'source': ['academic'], 'organism': ['rodent', 'human'], 'data': ['odorCharacter', 'intensity', 'receptorResponse', 'pleasantness', 'threshold'],\n",
    "           'stimuli': ['mixtures']}\n",
    "\n",
    "colors = {all_tags[i]: cmap(x) for i, x in enumerate(np.linspace(0, 1, len(all_tags)))}\n",
    "colors = {key: ''.join([format(int(n*255), '02x') for n in val[:3]]) for key, val in colors.items()}\n",
    "\n",
    "for archive, manifest in manifests.items():\n",
    "    markdown += f\"[![{archive}](https://img.shields.io/static/v1?label=&nbsp;&message={archive}&color=eeeeee)](#) \"\n",
    "    tags = manifest['source'].get('tags')\n",
    "    if tags:\n",
    "        for tag in tags.split(';'):\n",
    "            class_options = [key for key, val in classes.items() if tag in val]\n",
    "            class_ = class_options[0] if class_options else '&nbsp;'\n",
    "            badge = f\"[![<{tag}>](https://img.shields.io/static/v1?label={class_}&message={tag}&color={colors.get(tag, '222222')})](#) \"\n",
    "            markdown += badge\n",
    "    markdown += \"<br>\""
   ]
  },
  {
   "cell_type": "code",
   "execution_count": 314,
   "id": "ddc3bcde-1b4b-48b2-9e50-4ba3a2eda303",
   "metadata": {},
   "outputs": [
    {
     "data": {
      "text/markdown": [
       "[![abraham_2012](https://img.shields.io/static/v1?label=&nbsp;&message=abraham_2012&color=eeeeee)](#) [![<human>](https://img.shields.io/static/v1?label=organism&message=human&color=d4dc7f)](#) [![<threshold>](https://img.shields.io/static/v1?label=data&message=threshold&color=ff0000)](#) [![<academic>](https://img.shields.io/static/v1?label=source&message=academic&color=ff562b)](#) <br>[![arctander_1960](https://img.shields.io/static/v1?label=&nbsp;&message=arctander_1960&color=eeeeee)](#) [![<human>](https://img.shields.io/static/v1?label=organism&message=human&color=d4dc7f)](#) [![<odorCharacter>](https://img.shields.io/static/v1?label=data&message=odorCharacter&color=2adcdc)](#) <br>[![aromadb](https://img.shields.io/static/v1?label=&nbsp;&message=aromadb&color=eeeeee)](#) <br>[![arshamian_2022](https://img.shields.io/static/v1?label=&nbsp;&message=arshamian_2022&color=eeeeee)](#) [![<human>](https://img.shields.io/static/v1?label=organism&message=human&color=d4dc7f)](#) [![<pleasantness>](https://img.shields.io/static/v1?label=data&message=pleasantness&color=ffa256)](#) [![<academic>](https://img.shields.io/static/v1?label=source&message=academic&color=ff562b)](#) <br>[![bushdid_2014](https://img.shields.io/static/v1?label=&nbsp;&message=bushdid_2014&color=eeeeee)](#) [![<human>](https://img.shields.io/static/v1?label=organism&message=human&color=d4dc7f)](#) [![<odorCharacter>](https://img.shields.io/static/v1?label=data&message=odorCharacter&color=2adcdc)](#) [![<academic>](https://img.shields.io/static/v1?label=source&message=academic&color=ff562b)](#) <br>[![davison_2007](https://img.shields.io/static/v1?label=&nbsp;&message=davison_2007&color=eeeeee)](#) <br>[![dravnieks_1985](https://img.shields.io/static/v1?label=&nbsp;&message=dravnieks_1985&color=eeeeee)](#) [![<human>](https://img.shields.io/static/v1?label=organism&message=human&color=d4dc7f)](#) [![<odorCharacter>](https://img.shields.io/static/v1?label=data&message=odorCharacter&color=2adcdc)](#) [![<academic>](https://img.shields.io/static/v1?label=source&message=academic&color=ff562b)](#) <br>[![goodscents](https://img.shields.io/static/v1?label=&nbsp;&message=goodscents&color=eeeeee)](#) [![<human>](https://img.shields.io/static/v1?label=organism&message=human&color=d4dc7f)](#) [![<odorCharacter>](https://img.shields.io/static/v1?label=data&message=odorCharacter&color=2adcdc)](#) <br>[![haddad_2008](https://img.shields.io/static/v1?label=&nbsp;&message=haddad_2008&color=eeeeee)](#) [![<human>](https://img.shields.io/static/v1?label=organism&message=human&color=d4dc7f)](#) [![<rodent>](https://img.shields.io/static/v1?label=organism&message=rodent&color=7f00ff)](#) [![<academic>](https://img.shields.io/static/v1?label=source&message=academic&color=ff562b)](#) <br>[![ifra_2019](https://img.shields.io/static/v1?label=&nbsp;&message=ifra_2019&color=eeeeee)](#) [![<human>](https://img.shields.io/static/v1?label=organism&message=human&color=d4dc7f)](#) [![<odorCharacter>](https://img.shields.io/static/v1?label=data&message=odorCharacter&color=2adcdc)](#) <br>[![keller_2012](https://img.shields.io/static/v1?label=&nbsp;&message=keller_2012&color=eeeeee)](#) [![<human>](https://img.shields.io/static/v1?label=organism&message=human&color=d4dc7f)](#) [![<intensity>](https://img.shields.io/static/v1?label=data&message=intensity&color=9cfaa3)](#) [![<pleasantness>](https://img.shields.io/static/v1?label=data&message=pleasantness&color=ffa256)](#) [![<odorCharacter>](https://img.shields.io/static/v1?label=data&message=odorCharacter&color=2adcdc)](#) [![<threshold>](https://img.shields.io/static/v1?label=data&message=threshold&color=ff0000)](#) [![<academic>](https://img.shields.io/static/v1?label=source&message=academic&color=ff562b)](#) <br>[![keller_2016](https://img.shields.io/static/v1?label=&nbsp;&message=keller_2016&color=eeeeee)](#) [![<human>](https://img.shields.io/static/v1?label=organism&message=human&color=d4dc7f)](#) [![<intensity>](https://img.shields.io/static/v1?label=data&message=intensity&color=9cfaa3)](#) [![<pleasantness>](https://img.shields.io/static/v1?label=data&message=pleasantness&color=ffa256)](#) [![<familiarity>](https://img.shields.io/static/v1?label=&nbsp;&message=familiarity&color=4756fb)](#) [![<odorCharacter>](https://img.shields.io/static/v1?label=data&message=odorCharacter&color=2adcdc)](#) [![<academic>](https://img.shields.io/static/v1?label=source&message=academic&color=ff562b)](#) <br>[![leffingwell](https://img.shields.io/static/v1?label=&nbsp;&message=leffingwell&color=eeeeee)](#) [![<human>](https://img.shields.io/static/v1?label=organism&message=human&color=d4dc7f)](#) [![<odorCharacter>](https://img.shields.io/static/v1?label=data&message=odorCharacter&color=2adcdc)](#) <br>[![ma_2021](https://img.shields.io/static/v1?label=&nbsp;&message=ma_2021&color=eeeeee)](#) [![<human>](https://img.shields.io/static/v1?label=organism&message=human&color=d4dc7f)](#) [![<intensity>](https://img.shields.io/static/v1?label=data&message=intensity&color=9cfaa3)](#) [![<pleasantness>](https://img.shields.io/static/v1?label=data&message=pleasantness&color=ffa256)](#) [![<mixtures>](https://img.shields.io/static/v1?label=stimuli&message=mixtures&color=0fa2ef)](#) [![<academic>](https://img.shields.io/static/v1?label=source&message=academic&color=ff562b)](#) <br>[![mainland_2015](https://img.shields.io/static/v1?label=&nbsp;&message=mainland_2015&color=eeeeee)](#) [![<human>](https://img.shields.io/static/v1?label=organism&message=human&color=d4dc7f)](#) [![<receptorResponse>](https://img.shields.io/static/v1?label=data&message=receptorResponse&color=62fac3)](#) [![<academic>](https://img.shields.io/static/v1?label=source&message=academic&color=ff562b)](#) <br>[![manoel_2021](https://img.shields.io/static/v1?label=&nbsp;&message=manoel_2021&color=eeeeee)](#) [![<rodent>](https://img.shields.io/static/v1?label=organism&message=rodent&color=7f00ff)](#) [![<odorCharacter>](https://img.shields.io/static/v1?label=data&message=odorCharacter&color=2adcdc)](#) [![<academic>](https://img.shields.io/static/v1?label=source&message=academic&color=ff562b)](#) <br>[![mayhew_2022](https://img.shields.io/static/v1?label=&nbsp;&message=mayhew_2022&color=eeeeee)](#) [![<human>](https://img.shields.io/static/v1?label=organism&message=human&color=d4dc7f)](#) [![<academic>](https://img.shields.io/static/v1?label=source&message=academic&color=ff562b)](#) <br>[![nat_geo_1986](https://img.shields.io/static/v1?label=&nbsp;&message=nat_geo_1986&color=eeeeee)](#) [![<human>](https://img.shields.io/static/v1?label=organism&message=human&color=d4dc7f)](#) [![<odorCharacter>](https://img.shields.io/static/v1?label=data&message=odorCharacter&color=2adcdc)](#) <br>[![optical_rotation](https://img.shields.io/static/v1?label=&nbsp;&message=optical_rotation&color=eeeeee)](#) <br>[![ravia_2020](https://img.shields.io/static/v1?label=&nbsp;&message=ravia_2020&color=eeeeee)](#) [![<human>](https://img.shields.io/static/v1?label=organism&message=human&color=d4dc7f)](#) [![<odorCharacter>](https://img.shields.io/static/v1?label=data&message=odorCharacter&color=2adcdc)](#) [![<mixtures>](https://img.shields.io/static/v1?label=stimuli&message=mixtures&color=0fa2ef)](#) [![<academic>](https://img.shields.io/static/v1?label=source&message=academic&color=ff562b)](#) <br>[![scott_2014](https://img.shields.io/static/v1?label=&nbsp;&message=scott_2014&color=eeeeee)](#) [![<rodent>](https://img.shields.io/static/v1?label=organism&message=rodent&color=7f00ff)](#) [![<academic>](https://img.shields.io/static/v1?label=source&message=academic&color=ff562b)](#) <br>[![sigma_2014](https://img.shields.io/static/v1?label=&nbsp;&message=sigma_2014&color=eeeeee)](#) [![<human>](https://img.shields.io/static/v1?label=organism&message=human&color=d4dc7f)](#) [![<odorCharacter>](https://img.shields.io/static/v1?label=data&message=odorCharacter&color=2adcdc)](#) <br>[![snitz_2013](https://img.shields.io/static/v1?label=&nbsp;&message=snitz_2013&color=eeeeee)](#) [![<human>](https://img.shields.io/static/v1?label=organism&message=human&color=d4dc7f)](#) [![<odorCharacter>](https://img.shields.io/static/v1?label=data&message=odorCharacter&color=2adcdc)](#) [![<mixtures>](https://img.shields.io/static/v1?label=stimuli&message=mixtures&color=0fa2ef)](#) [![<academic>](https://img.shields.io/static/v1?label=source&message=academic&color=ff562b)](#) <br>[![snitz_2019](https://img.shields.io/static/v1?label=&nbsp;&message=snitz_2019&color=eeeeee)](#) [![<human>](https://img.shields.io/static/v1?label=organism&message=human&color=d4dc7f)](#) [![<intensity>](https://img.shields.io/static/v1?label=data&message=intensity&color=9cfaa3)](#) [![<odorCharacter>](https://img.shields.io/static/v1?label=data&message=odorCharacter&color=2adcdc)](#) [![<academic>](https://img.shields.io/static/v1?label=source&message=academic&color=ff562b)](#) <br>[![wakayama_2019](https://img.shields.io/static/v1?label=&nbsp;&message=wakayama_2019&color=eeeeee)](#) [![<human>](https://img.shields.io/static/v1?label=organism&message=human&color=d4dc7f)](#) [![<intensity>](https://img.shields.io/static/v1?label=data&message=intensity&color=9cfaa3)](#) <br>"
      ],
      "text/plain": [
       "<IPython.core.display.Markdown object>"
      ]
     },
     "execution_count": 314,
     "metadata": {},
     "output_type": "execute_result"
    }
   ],
   "source": [
    "from IPython.display import Markdown\n",
    "Markdown(markdown)"
   ]
  },
  {
   "cell_type": "code",
   "execution_count": 315,
   "id": "a5ef8012-ee16-4675-9334-37552f120580",
   "metadata": {},
   "outputs": [],
   "source": [
    "with open('inventory.md', 'w') as f:\n",
    "    f.write(markdown)"
   ]
  },
  {
   "cell_type": "code",
   "execution_count": 316,
   "id": "c3a06d9b-5896-4794-9ad3-2b4f914ff8df",
   "metadata": {},
   "outputs": [
    {
     "data": {
      "text/plain": [
       "'[![abraham_2012](https://img.shields.io/static/v1?label=&nbsp;&message=abraham_2012&color=eeeeee)](#) [![<human>](https://img.shields.io/static/v1?label=organism&message=human&color=d4dc7f)](#) [![<threshold>](https://img.shields.io/static/v1?label=data&message=threshold&color=ff0000)](#) [![<academic>](https://img.shields.io/static/v1?label=source&message=academic&color=ff562b)](#) <br>[![arctander_1960](https://img.shields.io/static/v1?label=&nbsp;&message=arctander_1960&color=eeeeee)](#) [![<human>](https://img.shields.io/static/v1?label=organism&message=human&color=d4dc7f)](#) [![<odorCharacter>](https://img.shields.io/static/v1?label=data&message=odorCharacter&color=2adcdc)](#) <br>[![aromadb](https://img.shields.io/static/v1?label=&nbsp;&message=aromadb&color=eeeeee)](#) <br>[![arshamian_2022](https://img.shields.io/static/v1?label=&nbsp;&message=arshamian_2022&color=eeeeee)](#) [![<human>](https://img.shields.io/static/v1?label=organism&message=human&color=d4dc7f)](#) [![<pleasantness>](https://img.shields.io/static/v1?label=data&message=pleasantness&color=ffa256)](#) [![<academic>](https://img.shields.io/static/v1?label=source&message=academic&color=ff562b)](#) <br>[![bushdid_2014](https://img.shields.io/static/v1?label=&nbsp;&message=bushdid_2014&color=eeeeee)](#) [![<human>](https://img.shields.io/static/v1?label=organism&message=human&color=d4dc7f)](#) [![<odorCharacter>](https://img.shields.io/static/v1?label=data&message=odorCharacter&color=2adcdc)](#) [![<academic>](https://img.shields.io/static/v1?label=source&message=academic&color=ff562b)](#) <br>[![davison_2007](https://img.shields.io/static/v1?label=&nbsp;&message=davison_2007&color=eeeeee)](#) <br>[![dravnieks_1985](https://img.shields.io/static/v1?label=&nbsp;&message=dravnieks_1985&color=eeeeee)](#) [![<human>](https://img.shields.io/static/v1?label=organism&message=human&color=d4dc7f)](#) [![<odorCharacter>](https://img.shields.io/static/v1?label=data&message=odorCharacter&color=2adcdc)](#) [![<academic>](https://img.shields.io/static/v1?label=source&message=academic&color=ff562b)](#) <br>[![goodscents](https://img.shields.io/static/v1?label=&nbsp;&message=goodscents&color=eeeeee)](#) [![<human>](https://img.shields.io/static/v1?label=organism&message=human&color=d4dc7f)](#) [![<odorCharacter>](https://img.shields.io/static/v1?label=data&message=odorCharacter&color=2adcdc)](#) <br>[![haddad_2008](https://img.shields.io/static/v1?label=&nbsp;&message=haddad_2008&color=eeeeee)](#) [![<human>](https://img.shields.io/static/v1?label=organism&message=human&color=d4dc7f)](#) [![<rodent>](https://img.shields.io/static/v1?label=organism&message=rodent&color=7f00ff)](#) [![<academic>](https://img.shields.io/static/v1?label=source&message=academic&color=ff562b)](#) <br>[![ifra_2019](https://img.shields.io/static/v1?label=&nbsp;&message=ifra_2019&color=eeeeee)](#) [![<human>](https://img.shields.io/static/v1?label=organism&message=human&color=d4dc7f)](#) [![<odorCharacter>](https://img.shields.io/static/v1?label=data&message=odorCharacter&color=2adcdc)](#) <br>[![keller_2012](https://img.shields.io/static/v1?label=&nbsp;&message=keller_2012&color=eeeeee)](#) [![<human>](https://img.shields.io/static/v1?label=organism&message=human&color=d4dc7f)](#) [![<intensity>](https://img.shields.io/static/v1?label=data&message=intensity&color=9cfaa3)](#) [![<pleasantness>](https://img.shields.io/static/v1?label=data&message=pleasantness&color=ffa256)](#) [![<odorCharacter>](https://img.shields.io/static/v1?label=data&message=odorCharacter&color=2adcdc)](#) [![<threshold>](https://img.shields.io/static/v1?label=data&message=threshold&color=ff0000)](#) [![<academic>](https://img.shields.io/static/v1?label=source&message=academic&color=ff562b)](#) <br>[![keller_2016](https://img.shields.io/static/v1?label=&nbsp;&message=keller_2016&color=eeeeee)](#) [![<human>](https://img.shields.io/static/v1?label=organism&message=human&color=d4dc7f)](#) [![<intensity>](https://img.shields.io/static/v1?label=data&message=intensity&color=9cfaa3)](#) [![<pleasantness>](https://img.shields.io/static/v1?label=data&message=pleasantness&color=ffa256)](#) [![<familiarity>](https://img.shields.io/static/v1?label=&nbsp;&message=familiarity&color=4756fb)](#) [![<odorCharacter>](https://img.shields.io/static/v1?label=data&message=odorCharacter&color=2adcdc)](#) [![<academic>](https://img.shields.io/static/v1?label=source&message=academic&color=ff562b)](#) <br>[![leffingwell](https://img.shields.io/static/v1?label=&nbsp;&message=leffingwell&color=eeeeee)](#) [![<human>](https://img.shields.io/static/v1?label=organism&message=human&color=d4dc7f)](#) [![<odorCharacter>](https://img.shields.io/static/v1?label=data&message=odorCharacter&color=2adcdc)](#) <br>[![ma_2021](https://img.shields.io/static/v1?label=&nbsp;&message=ma_2021&color=eeeeee)](#) [![<human>](https://img.shields.io/static/v1?label=organism&message=human&color=d4dc7f)](#) [![<intensity>](https://img.shields.io/static/v1?label=data&message=intensity&color=9cfaa3)](#) [![<pleasantness>](https://img.shields.io/static/v1?label=data&message=pleasantness&color=ffa256)](#) [![<mixtures>](https://img.shields.io/static/v1?label=stimuli&message=mixtures&color=0fa2ef)](#) [![<academic>](https://img.shields.io/static/v1?label=source&message=academic&color=ff562b)](#) <br>[![mainland_2015](https://img.shields.io/static/v1?label=&nbsp;&message=mainland_2015&color=eeeeee)](#) [![<human>](https://img.shields.io/static/v1?label=organism&message=human&color=d4dc7f)](#) [![<receptorResponse>](https://img.shields.io/static/v1?label=data&message=receptorResponse&color=62fac3)](#) [![<academic>](https://img.shields.io/static/v1?label=source&message=academic&color=ff562b)](#) <br>[![manoel_2021](https://img.shields.io/static/v1?label=&nbsp;&message=manoel_2021&color=eeeeee)](#) [![<rodent>](https://img.shields.io/static/v1?label=organism&message=rodent&color=7f00ff)](#) [![<odorCharacter>](https://img.shields.io/static/v1?label=data&message=odorCharacter&color=2adcdc)](#) [![<academic>](https://img.shields.io/static/v1?label=source&message=academic&color=ff562b)](#) <br>[![mayhew_2022](https://img.shields.io/static/v1?label=&nbsp;&message=mayhew_2022&color=eeeeee)](#) [![<human>](https://img.shields.io/static/v1?label=organism&message=human&color=d4dc7f)](#) [![<academic>](https://img.shields.io/static/v1?label=source&message=academic&color=ff562b)](#) <br>[![nat_geo_1986](https://img.shields.io/static/v1?label=&nbsp;&message=nat_geo_1986&color=eeeeee)](#) [![<human>](https://img.shields.io/static/v1?label=organism&message=human&color=d4dc7f)](#) [![<odorCharacter>](https://img.shields.io/static/v1?label=data&message=odorCharacter&color=2adcdc)](#) <br>[![optical_rotation](https://img.shields.io/static/v1?label=&nbsp;&message=optical_rotation&color=eeeeee)](#) <br>[![ravia_2020](https://img.shields.io/static/v1?label=&nbsp;&message=ravia_2020&color=eeeeee)](#) [![<human>](https://img.shields.io/static/v1?label=organism&message=human&color=d4dc7f)](#) [![<odorCharacter>](https://img.shields.io/static/v1?label=data&message=odorCharacter&color=2adcdc)](#) [![<mixtures>](https://img.shields.io/static/v1?label=stimuli&message=mixtures&color=0fa2ef)](#) [![<academic>](https://img.shields.io/static/v1?label=source&message=academic&color=ff562b)](#) <br>[![scott_2014](https://img.shields.io/static/v1?label=&nbsp;&message=scott_2014&color=eeeeee)](#) [![<rodent>](https://img.shields.io/static/v1?label=organism&message=rodent&color=7f00ff)](#) [![<academic>](https://img.shields.io/static/v1?label=source&message=academic&color=ff562b)](#) <br>[![sigma_2014](https://img.shields.io/static/v1?label=&nbsp;&message=sigma_2014&color=eeeeee)](#) [![<human>](https://img.shields.io/static/v1?label=organism&message=human&color=d4dc7f)](#) [![<odorCharacter>](https://img.shields.io/static/v1?label=data&message=odorCharacter&color=2adcdc)](#) <br>[![snitz_2013](https://img.shields.io/static/v1?label=&nbsp;&message=snitz_2013&color=eeeeee)](#) [![<human>](https://img.shields.io/static/v1?label=organism&message=human&color=d4dc7f)](#) [![<odorCharacter>](https://img.shields.io/static/v1?label=data&message=odorCharacter&color=2adcdc)](#) [![<mixtures>](https://img.shields.io/static/v1?label=stimuli&message=mixtures&color=0fa2ef)](#) [![<academic>](https://img.shields.io/static/v1?label=source&message=academic&color=ff562b)](#) <br>[![snitz_2019](https://img.shields.io/static/v1?label=&nbsp;&message=snitz_2019&color=eeeeee)](#) [![<human>](https://img.shields.io/static/v1?label=organism&message=human&color=d4dc7f)](#) [![<intensity>](https://img.shields.io/static/v1?label=data&message=intensity&color=9cfaa3)](#) [![<odorCharacter>](https://img.shields.io/static/v1?label=data&message=odorCharacter&color=2adcdc)](#) [![<academic>](https://img.shields.io/static/v1?label=source&message=academic&color=ff562b)](#) <br>[![wakayama_2019](https://img.shields.io/static/v1?label=&nbsp;&message=wakayama_2019&color=eeeeee)](#) [![<human>](https://img.shields.io/static/v1?label=organism&message=human&color=d4dc7f)](#) [![<intensity>](https://img.shields.io/static/v1?label=data&message=intensity&color=9cfaa3)](#) <br>'"
      ]
     },
     "execution_count": 316,
     "metadata": {},
     "output_type": "execute_result"
    }
   ],
   "source": [
    "markdown"
   ]
  }
 ],
 "metadata": {
  "kernelspec": {
   "display_name": "Python 3",
   "language": "python",
   "name": "python3"
  },
  "language_info": {
   "codemirror_mode": {
    "name": "ipython",
    "version": 3
   },
   "file_extension": ".py",
   "mimetype": "text/x-python",
   "name": "python",
   "nbconvert_exporter": "python",
   "pygments_lexer": "ipython3",
   "version": "3.9.4"
  }
 },
 "nbformat": 4,
 "nbformat_minor": 5
}
