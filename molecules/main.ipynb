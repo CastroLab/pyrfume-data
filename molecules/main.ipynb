{
 "cells": [
  {
   "cell_type": "code",
   "execution_count": 1,
   "id": "e848e440-a83b-4320-b578-5ac4c2b5cb56",
   "metadata": {},
   "outputs": [],
   "source": [
    "from itertools import chain\n",
    "import pandas as pd\n",
    "import pyrfume\n",
    "from pyrfume.odorants import from_cids"
   ]
  },
  {
   "cell_type": "code",
   "execution_count": 2,
   "id": "8417ff93-2f49-4d13-98cc-851b6699ee2b",
   "metadata": {},
   "outputs": [],
   "source": [
    "archives = pyrfume.list_archives()\n",
    "archive_cids = {}\n",
    "for archive in archives:\n",
    "    molecules = pyrfume.load_data(f'{archive}/molecules.csv')\n",
    "    archive_cids[archive] = molecules.index\n",
    "cids = sorted(chain(*archive_cids.values()))"
   ]
  },
  {
   "cell_type": "code",
   "execution_count": 3,
   "id": "e863851b-d02d-4b42-a23d-83467abca9da",
   "metadata": {},
   "outputs": [],
   "source": [
    "usage = pd.DataFrame(index=cids)\n",
    "for archive in archives:\n",
    "    usage[archive] = usage.index.isin(archive_cids[archive]).astype(int)\n",
    "usage.to_csv('usage.csv')"
   ]
  },
  {
   "cell_type": "code",
   "execution_count": 4,
   "id": "0e0d695b-fe79-4b8e-8497-1e72a724e7b7",
   "metadata": {},
   "outputs": [
    {
     "data": {
      "application/vnd.jupyter.widget-view+json": {
       "model_id": "83d4809c4367412999d385eaab1134ec",
       "version_major": 2,
       "version_minor": 0
      },
      "text/plain": [
       "  0%|          | 0/18 [00:00<?, ?it/s]"
      ]
     },
     "metadata": {},
     "output_type": "display_data"
    },
    {
     "name": "stdout",
     "output_type": "stream",
     "text": [
      "Retrieving 0 through 99\n",
      "Retrieving 100 through 199\n",
      "Retrieving 200 through 299\n",
      "Retrieving 300 through 399\n",
      "Retrieving 400 through 499\n",
      "Retrieving 500 through 599\n",
      "Retrieving 600 through 699\n",
      "Retrieving 700 through 799\n",
      "Retrieving 800 through 899\n",
      "Retrieving 900 through 999\n",
      "Retrieving 1000 through 1099\n",
      "Retrieving 1100 through 1199\n",
      "Retrieving 1200 through 1299\n",
      "Retrieving 1300 through 1399\n",
      "Retrieving 1400 through 1499\n",
      "Retrieving 1500 through 1599\n",
      "Retrieving 1600 through 1699\n",
      "Retrieving 1700 through 1726\n"
     ]
    }
   ],
   "source": [
    "molecules = pd.DataFrame(from_cids(cids)).set_index('CID')\n",
    "molecules.to_csv('molecules.csv')"
   ]
  }
 ],
 "metadata": {
  "kernelspec": {
   "display_name": "Python 3",
   "language": "python",
   "name": "python3"
  },
  "language_info": {
   "codemirror_mode": {
    "name": "ipython",
    "version": 3
   },
   "file_extension": ".py",
   "mimetype": "text/x-python",
   "name": "python",
   "nbconvert_exporter": "python",
   "pygments_lexer": "ipython3",
   "version": "3.9.4"
  }
 },
 "nbformat": 4,
 "nbformat_minor": 5
}
