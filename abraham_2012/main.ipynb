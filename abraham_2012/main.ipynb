{
 "cells": [
  {
   "cell_type": "code",
   "execution_count": 1,
   "id": "cd0c8afa-e0a9-49b4-acca-170f8b720c05",
   "metadata": {},
   "outputs": [],
   "source": [
    "import pandas as pd\n",
    "from pyrfume.odorants import get_cids, from_cids"
   ]
  },
  {
   "cell_type": "code",
   "execution_count": 2,
   "id": "00650bb4-071e-4f0b-bc8f-354a28aa260f",
   "metadata": {},
   "outputs": [],
   "source": [
    "# From the supplemental materials of:\n",
    "# \"An Algorithm for 353 Odor Detection Thresholds in Humans\"\n",
    "# Abraham et al, 2012 (Chemical Senses; 2011 online publication date)\n",
    "df = pd.read_excel('ThresholdsAbraham2011.xls')"
   ]
  },
  {
   "cell_type": "code",
   "execution_count": 3,
   "id": "427f29c0-3d4a-4829-9b52-7ca95872b50c",
   "metadata": {},
   "outputs": [
    {
     "data": {
      "application/vnd.jupyter.widget-view+json": {
       "model_id": "c655d73312804a8092196fb3995fb7fb",
       "version_major": 2,
       "version_minor": 0
      },
      "text/plain": [
       "  0%|          | 0/311 [00:00<?, ?it/s]"
      ]
     },
     "metadata": {},
     "output_type": "display_data"
    },
    {
     "name": "stderr",
     "output_type": "stream",
     "text": [
      "Could not find C(CCC)(=O)O.C#CC\n"
     ]
    }
   ],
   "source": [
    "# Get CIDs for SMILES given in the original data file\n",
    "smiles = df['SMILES'].dropna()\n",
    "smiles_cids = get_cids(smiles, kind='SMILES')"
   ]
  },
  {
   "cell_type": "code",
   "execution_count": 4,
   "id": "d43fa50f-144d-4314-b598-d40c0b1ad8b0",
   "metadata": {},
   "outputs": [],
   "source": [
    "# Use these CIDs where possible\n",
    "df['CID'] = df['SMILES'].apply(smiles_cids.get, None)"
   ]
  },
  {
   "cell_type": "code",
   "execution_count": 5,
   "id": "1c9cc742-084f-4266-8dbd-63aea51bc461",
   "metadata": {},
   "outputs": [],
   "source": [
    "# Replace typos and odd spellings with correct molecule names (whole names)\n",
    "subs = {'lsobutylaldehyde': 'isobutyraldehyde',\n",
    "        'n-Decylaldehyde': 'decanal',\n",
    "        'Methyl sec.butyl ketone': '3-Methyl-2-pentanone',\n",
    "        'Methyl tert.butyl ketone': 'Pinacolone',\n",
    "        'a-Pinene': 'alpha-Pinene',\n",
    "        'Butyl cellosolve  acetate': '2-Butoxyethanol acetate',\n",
    "        '2-n-Buthoxyethanol': '2-butoxyethanol',\n",
    "        '1-8 Cineole': 'eucalyptol',\n",
    "        'n-Propy n-butyrate': 'Propyl butyrate',\n",
    "        'D-3-carene': 'delta-3-carene'}\n",
    "df['Substance'] = df['Substance'].replace(subs)"
   ]
  },
  {
   "cell_type": "code",
   "execution_count": 6,
   "id": "5c84012e-a7ac-413a-968a-1feba976a41b",
   "metadata": {},
   "outputs": [],
   "source": [
    "# Replace typos and odd spellings with correct molecule names (parts of names)\n",
    "subs = {'.': '-',\n",
    "        'alfa': 'alpha',\n",
    "        'ß': 'beta',\n",
    "        'mercaptane': 'mercaptan',\n",
    "        'acryrale': 'acrylate',\n",
    "        '- ': '-'}\n",
    "for key, value in subs.items():\n",
    "    df['Substance'] = df['Substance'].str.replace(key, value, regex=False)"
   ]
  },
  {
   "cell_type": "code",
   "execution_count": 7,
   "id": "68c06de2-722a-48cf-9db1-886f6a1b04a7",
   "metadata": {},
   "outputs": [
    {
     "data": {
      "application/vnd.jupyter.widget-view+json": {
       "model_id": "ae8e82f069444e1b81a344f91255d36b",
       "version_major": 2,
       "version_minor": 0
      },
      "text/plain": [
       "  0%|          | 0/40 [00:00<?, ?it/s]"
      ]
     },
     "metadata": {},
     "output_type": "display_data"
    }
   ],
   "source": [
    "# Get CIDS for molecule names that did not have SMILES (or whose SMILES could not be used)\n",
    "names = df[df['CID'].isnull() | (df['CID']==0)]['Substance']\n",
    "name_cids = get_cids(names, kind='name')"
   ]
  },
  {
   "cell_type": "code",
   "execution_count": 8,
   "id": "4d9de52c-40cb-452c-a25d-991678b83375",
   "metadata": {},
   "outputs": [],
   "source": [
    "# Use these CIDs where CIDs could not be found previously\n",
    "df.loc[names.index, 'CID'] = df['Substance'].apply(name_cids.get, None)"
   ]
  },
  {
   "cell_type": "code",
   "execution_count": 9,
   "id": "da5662a9-94b3-4c44-9104-d293b5002aee",
   "metadata": {},
   "outputs": [],
   "source": [
    "# Verify that a CID has been found for all molecules\n",
    "assert all(df['CID']>0)"
   ]
  },
  {
   "cell_type": "code",
   "execution_count": 10,
   "id": "c4553029-4fe5-48f2-b398-ac096edd3e10",
   "metadata": {},
   "outputs": [],
   "source": [
    "# Use the CID as the index and discard other identifiers from original dataset\n",
    "df = df.set_index('CID').drop(['Substance', 'SMILES', 'MW'], axis=1)"
   ]
  },
  {
   "cell_type": "code",
   "execution_count": 11,
   "id": "8af402e2-8c29-4076-a633-5faca6b7d137",
   "metadata": {},
   "outputs": [],
   "source": [
    "# There are some duplicate entries so average over duplicates and indicate where this has occurred\n",
    "counts = df.groupby('CID')['Log (1/ODT)'].count()\n",
    "behavior = df.groupby('CID').mean()\n",
    "behavior['Duplicates'] = counts - 1\n",
    "\n",
    "# Save this to the behavior file\n",
    "behavior.to_csv('behavior.csv')"
   ]
  },
  {
   "cell_type": "code",
   "execution_count": 12,
   "id": "0263f120-0bf6-49e6-aef5-01c4c4f93b77",
   "metadata": {},
   "outputs": [
    {
     "data": {
      "application/vnd.jupyter.widget-view+json": {
       "model_id": "9caab47588224aa8a4250c3514800845",
       "version_major": 2,
       "version_minor": 0
      },
      "text/plain": [
       "  0%|          | 0/4 [00:00<?, ?it/s]"
      ]
     },
     "metadata": {},
     "output_type": "display_data"
    },
    {
     "name": "stdout",
     "output_type": "stream",
     "text": [
      "Retrieving 0 through 99\n",
      "Retrieving 100 through 199\n",
      "Retrieving 200 through 299\n",
      "Retrieving 300 through 349\n"
     ]
    }
   ],
   "source": [
    "# Get molecular data from PubChem (for consistency)\n",
    "molecules = pd.DataFrame(from_cids(df.index)).set_index('CID')\n",
    "\n",
    "# Save this to the molecules file\n",
    "molecules.to_csv('molecules.csv')"
   ]
  }
 ],
 "metadata": {
  "kernelspec": {
   "display_name": "Python 3",
   "language": "python",
   "name": "python3"
  },
  "language_info": {
   "codemirror_mode": {
    "name": "ipython",
    "version": 3
   },
   "file_extension": ".py",
   "mimetype": "text/x-python",
   "name": "python",
   "nbconvert_exporter": "python",
   "pygments_lexer": "ipython3",
   "version": "3.9.4"
  }
 },
 "nbformat": 4,
 "nbformat_minor": 5
}
